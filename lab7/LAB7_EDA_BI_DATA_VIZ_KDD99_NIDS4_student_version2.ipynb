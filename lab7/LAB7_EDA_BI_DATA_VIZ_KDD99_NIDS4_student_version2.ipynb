{
 "cells": [
  {
   "cell_type": "raw",
   "metadata": {},
   "source": []
  },
  {
   "cell_type": "markdown",
   "metadata": {},
   "source": [
    "<a href=\"http://esprit.tn\"><img src = \"https://upload.wikimedia.org/wikipedia/commons/f/ff/Logo_ESPRIT_Ariana.jpg\" width = 300, align = \"center\"></a>\n",
    "\n",
    "\n",
    "\n",
    "<h1 align=center><font size = 5>Lab 7: KDD-99 - EDA - Data Visualization </font></h1>\n",
    "\n",
    "Estimated duration: 80 min"
   ]
  },
  {
   "cell_type": "markdown",
   "metadata": {},
   "source": [
    "<br>"
   ]
  },
  {
   "cell_type": "markdown",
   "metadata": {},
   "source": [
    "### Goals:\n",
    "\n",
    "The Current lab aims is to apply **Exploratory data Analysis** using:\n",
    "<li> Statistical tools provided by **Pandas**  </li>\n",
    "<li> Visualization tools proposed by **Mathplotlib** and **Seaborn** </li>\n",
    "<li> **Regression** analysis of the more representative features </li>\n"
   ]
  },
  {
   "cell_type": "markdown",
   "metadata": {},
   "source": [
    "Benchmark Site:\n",
    "    http://kdd.ics.uci.edu/databases/kddcup99/kddcup99.html"
   ]
  },
  {
   "cell_type": "markdown",
   "metadata": {},
   "source": [
    "<h1 align=center><font size = 5>I. Loading data </font></h1>"
   ]
  },
  {
   "cell_type": "markdown",
   "metadata": {},
   "source": [
    "\n",
    "<h4 align=center>I.1 Defining data sources</h4>"
   ]
  },
  {
   "cell_type": "code",
   "execution_count": 4,
   "metadata": {},
   "outputs": [],
   "source": [
    "path = './kddcup.data_10_percent_corrected'\n",
    "path_meta= './kddcup.names'\n",
    "# path of the data set generation with header column names\n",
    "path_new='./new_dataset.csv'  "
   ]
  },
  {
   "cell_type": "markdown",
   "metadata": {},
   "source": [
    "<h4 align=center>I.2 Loading modules  and  Defining helpers functions </h4>"
   ]
  },
  {
   "cell_type": "code",
   "execution_count": 2,
   "metadata": {},
   "outputs": [],
   "source": [
    "import datetime\n",
    "import csv\n",
    "import pandas as pnd\n",
    "\n",
    "\n",
    "import matplotlib as plt\n",
    "from matplotlib import pyplot as plt2\n",
    "import numpy as np\n",
    "import seaborn as sns"
   ]
  },
  {
   "cell_type": "code",
   "execution_count": 2,
   "metadata": {},
   "outputs": [
    {
     "name": "stdout",
     "output_type": "stream",
     "text": [
      "0:00:00.000042\n",
      "Elapsed time 0:00:00.000028\n"
     ]
    },
    {
     "data": {
      "text/plain": [
       "datetime.timedelta(microseconds=28)"
      ]
     },
     "execution_count": 2,
     "metadata": {},
     "output_type": "execute_result"
    }
   ],
   "source": [
    "\n",
    "t=datetime.datetime.now()\n",
    "print(datetime.datetime.now()- t)\n",
    "\n",
    "def init_chrono():\n",
    "    return datetime.datetime.now()\n",
    "\n",
    "def elapsed_time(t):\n",
    "    if t:\n",
    "        delta = init_chrono() - t\n",
    "        print ('Elapsed time', delta)\n",
    "        return delta \n",
    "    \n",
    "# test\n",
    "t = init_chrono()\n",
    "elapsed_time(t)"
   ]
  },
  {
   "cell_type": "markdown",
   "metadata": {},
   "source": [
    "**-1-** Load the dataset with pandas:"
   ]
  },
  {
   "cell_type": "code",
   "execution_count": 55,
   "metadata": {},
   "outputs": [
    {
     "name": "stdout",
     "output_type": "stream",
     "text": [
      "['duration', 'protocol_type', 'service', 'flag', 'src_bytes', 'dst_bytes', 'land', 'wrong_fragment', 'urgent', 'hot', 'num_failed_logins', 'logged_in', 'num_compromised', 'root_shell', 'su_attempted', 'num_root', 'num_file_creations', 'num_shells', 'num_access_files', 'num_outbound_cmds', 'is_host_login', 'is_guest_login', 'count', 'srv_count', 'serror_rate', 'srv_serror_rate', 'rerror_rate', 'srv_rerror_rate', 'same_srv_rate', 'diff_srv_rate', 'srv_diff_host_rate', 'dst_host_count', 'dst_host_srv_count', 'dst_host_same_srv_rate', 'dst_host_diff_srv_rate', 'dst_host_same_src_port_rate', 'dst_host_srv_diff_host_rate', 'dst_host_serror_rate', 'dst_host_srv_serror_rate', 'dst_host_rerror_rate', 'dst_host_srv_rerror_rate']\n",
      "Elapsed time 0:00:02.604615\n"
     ]
    },
    {
     "data": {
      "text/plain": [
       "datetime.timedelta(seconds=2, microseconds=604615)"
      ]
     },
     "execution_count": 55,
     "metadata": {},
     "output_type": "execute_result"
    }
   ],
   "source": [
    "t = init_chrono()\n",
    "#insert your code here\n",
    "df_new = pnd.read_csv(path, header=None)\n",
    "dataset = df_new\n",
    "with open(path_meta,\"r\") as file1:\n",
    "    FileContent_meta=file1.readlines()\n",
    "    \n",
    "lst= list(map(lambda x: x.split(':')[0], FileContent_meta[1:]))\n",
    "print(lst)\n",
    "lst.append('class')\n",
    "dataset.columns= lst\n",
    "elapsed_time(t)"
   ]
  },
  {
   "cell_type": "markdown",
   "metadata": {},
   "source": [
    "**Question : ** print the last 10 lines. Are colunm names loaded correctly?"
   ]
  },
  {
   "cell_type": "code",
   "execution_count": 9,
   "metadata": {},
   "outputs": [
    {
     "data": {
      "text/html": [
       "<div>\n",
       "<style scoped>\n",
       "    .dataframe tbody tr th:only-of-type {\n",
       "        vertical-align: middle;\n",
       "    }\n",
       "\n",
       "    .dataframe tbody tr th {\n",
       "        vertical-align: top;\n",
       "    }\n",
       "\n",
       "    .dataframe thead th {\n",
       "        text-align: right;\n",
       "    }\n",
       "</style>\n",
       "<table border=\"1\" class=\"dataframe\">\n",
       "  <thead>\n",
       "    <tr style=\"text-align: right;\">\n",
       "      <th></th>\n",
       "      <th>duration</th>\n",
       "      <th>protocol_type</th>\n",
       "      <th>service</th>\n",
       "      <th>flag</th>\n",
       "      <th>src_bytes</th>\n",
       "      <th>dst_bytes</th>\n",
       "      <th>land</th>\n",
       "      <th>wrong_fragment</th>\n",
       "      <th>urgent</th>\n",
       "      <th>hot</th>\n",
       "      <th>...</th>\n",
       "      <th>dst_host_srv_count</th>\n",
       "      <th>dst_host_same_srv_rate</th>\n",
       "      <th>dst_host_diff_srv_rate</th>\n",
       "      <th>dst_host_same_src_port_rate</th>\n",
       "      <th>dst_host_srv_diff_host_rate</th>\n",
       "      <th>dst_host_serror_rate</th>\n",
       "      <th>dst_host_srv_serror_rate</th>\n",
       "      <th>dst_host_rerror_rate</th>\n",
       "      <th>dst_host_srv_rerror_rate</th>\n",
       "      <th>class</th>\n",
       "    </tr>\n",
       "  </thead>\n",
       "  <tbody>\n",
       "    <tr>\n",
       "      <th>494010</th>\n",
       "      <td>0</td>\n",
       "      <td>tcp</td>\n",
       "      <td>http</td>\n",
       "      <td>SF</td>\n",
       "      <td>308</td>\n",
       "      <td>662</td>\n",
       "      <td>0</td>\n",
       "      <td>0</td>\n",
       "      <td>0</td>\n",
       "      <td>0</td>\n",
       "      <td>...</td>\n",
       "      <td>255</td>\n",
       "      <td>1.0</td>\n",
       "      <td>0.0</td>\n",
       "      <td>0.03</td>\n",
       "      <td>0.06</td>\n",
       "      <td>0.00</td>\n",
       "      <td>0.01</td>\n",
       "      <td>0.0</td>\n",
       "      <td>0.0</td>\n",
       "      <td>normal.</td>\n",
       "    </tr>\n",
       "    <tr>\n",
       "      <th>494011</th>\n",
       "      <td>0</td>\n",
       "      <td>tcp</td>\n",
       "      <td>http</td>\n",
       "      <td>SF</td>\n",
       "      <td>291</td>\n",
       "      <td>1862</td>\n",
       "      <td>0</td>\n",
       "      <td>0</td>\n",
       "      <td>0</td>\n",
       "      <td>0</td>\n",
       "      <td>...</td>\n",
       "      <td>255</td>\n",
       "      <td>1.0</td>\n",
       "      <td>0.0</td>\n",
       "      <td>0.02</td>\n",
       "      <td>0.05</td>\n",
       "      <td>0.00</td>\n",
       "      <td>0.01</td>\n",
       "      <td>0.0</td>\n",
       "      <td>0.0</td>\n",
       "      <td>normal.</td>\n",
       "    </tr>\n",
       "    <tr>\n",
       "      <th>494012</th>\n",
       "      <td>0</td>\n",
       "      <td>tcp</td>\n",
       "      <td>http</td>\n",
       "      <td>SF</td>\n",
       "      <td>289</td>\n",
       "      <td>244</td>\n",
       "      <td>0</td>\n",
       "      <td>0</td>\n",
       "      <td>0</td>\n",
       "      <td>0</td>\n",
       "      <td>...</td>\n",
       "      <td>255</td>\n",
       "      <td>1.0</td>\n",
       "      <td>0.0</td>\n",
       "      <td>0.02</td>\n",
       "      <td>0.05</td>\n",
       "      <td>0.00</td>\n",
       "      <td>0.01</td>\n",
       "      <td>0.0</td>\n",
       "      <td>0.0</td>\n",
       "      <td>normal.</td>\n",
       "    </tr>\n",
       "    <tr>\n",
       "      <th>494013</th>\n",
       "      <td>0</td>\n",
       "      <td>tcp</td>\n",
       "      <td>http</td>\n",
       "      <td>SF</td>\n",
       "      <td>306</td>\n",
       "      <td>662</td>\n",
       "      <td>0</td>\n",
       "      <td>0</td>\n",
       "      <td>0</td>\n",
       "      <td>0</td>\n",
       "      <td>...</td>\n",
       "      <td>255</td>\n",
       "      <td>1.0</td>\n",
       "      <td>0.0</td>\n",
       "      <td>0.02</td>\n",
       "      <td>0.05</td>\n",
       "      <td>0.00</td>\n",
       "      <td>0.01</td>\n",
       "      <td>0.0</td>\n",
       "      <td>0.0</td>\n",
       "      <td>normal.</td>\n",
       "    </tr>\n",
       "    <tr>\n",
       "      <th>494014</th>\n",
       "      <td>0</td>\n",
       "      <td>tcp</td>\n",
       "      <td>http</td>\n",
       "      <td>SF</td>\n",
       "      <td>289</td>\n",
       "      <td>1862</td>\n",
       "      <td>0</td>\n",
       "      <td>0</td>\n",
       "      <td>0</td>\n",
       "      <td>0</td>\n",
       "      <td>...</td>\n",
       "      <td>255</td>\n",
       "      <td>1.0</td>\n",
       "      <td>0.0</td>\n",
       "      <td>0.01</td>\n",
       "      <td>0.05</td>\n",
       "      <td>0.00</td>\n",
       "      <td>0.01</td>\n",
       "      <td>0.0</td>\n",
       "      <td>0.0</td>\n",
       "      <td>normal.</td>\n",
       "    </tr>\n",
       "    <tr>\n",
       "      <th>494015</th>\n",
       "      <td>0</td>\n",
       "      <td>tcp</td>\n",
       "      <td>http</td>\n",
       "      <td>SF</td>\n",
       "      <td>310</td>\n",
       "      <td>1881</td>\n",
       "      <td>0</td>\n",
       "      <td>0</td>\n",
       "      <td>0</td>\n",
       "      <td>0</td>\n",
       "      <td>...</td>\n",
       "      <td>255</td>\n",
       "      <td>1.0</td>\n",
       "      <td>0.0</td>\n",
       "      <td>0.01</td>\n",
       "      <td>0.05</td>\n",
       "      <td>0.00</td>\n",
       "      <td>0.01</td>\n",
       "      <td>0.0</td>\n",
       "      <td>0.0</td>\n",
       "      <td>normal.</td>\n",
       "    </tr>\n",
       "    <tr>\n",
       "      <th>494016</th>\n",
       "      <td>0</td>\n",
       "      <td>tcp</td>\n",
       "      <td>http</td>\n",
       "      <td>SF</td>\n",
       "      <td>282</td>\n",
       "      <td>2286</td>\n",
       "      <td>0</td>\n",
       "      <td>0</td>\n",
       "      <td>0</td>\n",
       "      <td>0</td>\n",
       "      <td>...</td>\n",
       "      <td>255</td>\n",
       "      <td>1.0</td>\n",
       "      <td>0.0</td>\n",
       "      <td>0.17</td>\n",
       "      <td>0.05</td>\n",
       "      <td>0.00</td>\n",
       "      <td>0.01</td>\n",
       "      <td>0.0</td>\n",
       "      <td>0.0</td>\n",
       "      <td>normal.</td>\n",
       "    </tr>\n",
       "    <tr>\n",
       "      <th>494017</th>\n",
       "      <td>0</td>\n",
       "      <td>tcp</td>\n",
       "      <td>http</td>\n",
       "      <td>SF</td>\n",
       "      <td>203</td>\n",
       "      <td>1200</td>\n",
       "      <td>0</td>\n",
       "      <td>0</td>\n",
       "      <td>0</td>\n",
       "      <td>0</td>\n",
       "      <td>...</td>\n",
       "      <td>255</td>\n",
       "      <td>1.0</td>\n",
       "      <td>0.0</td>\n",
       "      <td>0.06</td>\n",
       "      <td>0.05</td>\n",
       "      <td>0.06</td>\n",
       "      <td>0.01</td>\n",
       "      <td>0.0</td>\n",
       "      <td>0.0</td>\n",
       "      <td>normal.</td>\n",
       "    </tr>\n",
       "    <tr>\n",
       "      <th>494018</th>\n",
       "      <td>0</td>\n",
       "      <td>tcp</td>\n",
       "      <td>http</td>\n",
       "      <td>SF</td>\n",
       "      <td>291</td>\n",
       "      <td>1200</td>\n",
       "      <td>0</td>\n",
       "      <td>0</td>\n",
       "      <td>0</td>\n",
       "      <td>0</td>\n",
       "      <td>...</td>\n",
       "      <td>255</td>\n",
       "      <td>1.0</td>\n",
       "      <td>0.0</td>\n",
       "      <td>0.04</td>\n",
       "      <td>0.05</td>\n",
       "      <td>0.04</td>\n",
       "      <td>0.01</td>\n",
       "      <td>0.0</td>\n",
       "      <td>0.0</td>\n",
       "      <td>normal.</td>\n",
       "    </tr>\n",
       "    <tr>\n",
       "      <th>494019</th>\n",
       "      <td>0</td>\n",
       "      <td>tcp</td>\n",
       "      <td>http</td>\n",
       "      <td>SF</td>\n",
       "      <td>219</td>\n",
       "      <td>1234</td>\n",
       "      <td>0</td>\n",
       "      <td>0</td>\n",
       "      <td>0</td>\n",
       "      <td>0</td>\n",
       "      <td>...</td>\n",
       "      <td>255</td>\n",
       "      <td>1.0</td>\n",
       "      <td>0.0</td>\n",
       "      <td>0.17</td>\n",
       "      <td>0.05</td>\n",
       "      <td>0.00</td>\n",
       "      <td>0.01</td>\n",
       "      <td>0.0</td>\n",
       "      <td>0.0</td>\n",
       "      <td>normal.</td>\n",
       "    </tr>\n",
       "  </tbody>\n",
       "</table>\n",
       "<p>10 rows × 42 columns</p>\n",
       "</div>"
      ],
      "text/plain": [
       "        duration protocol_type service flag  src_bytes  dst_bytes  land  \\\n",
       "494010         0           tcp    http   SF        308        662     0   \n",
       "494011         0           tcp    http   SF        291       1862     0   \n",
       "494012         0           tcp    http   SF        289        244     0   \n",
       "494013         0           tcp    http   SF        306        662     0   \n",
       "494014         0           tcp    http   SF        289       1862     0   \n",
       "494015         0           tcp    http   SF        310       1881     0   \n",
       "494016         0           tcp    http   SF        282       2286     0   \n",
       "494017         0           tcp    http   SF        203       1200     0   \n",
       "494018         0           tcp    http   SF        291       1200     0   \n",
       "494019         0           tcp    http   SF        219       1234     0   \n",
       "\n",
       "        wrong_fragment  urgent  hot   ...     dst_host_srv_count  \\\n",
       "494010               0       0    0   ...                    255   \n",
       "494011               0       0    0   ...                    255   \n",
       "494012               0       0    0   ...                    255   \n",
       "494013               0       0    0   ...                    255   \n",
       "494014               0       0    0   ...                    255   \n",
       "494015               0       0    0   ...                    255   \n",
       "494016               0       0    0   ...                    255   \n",
       "494017               0       0    0   ...                    255   \n",
       "494018               0       0    0   ...                    255   \n",
       "494019               0       0    0   ...                    255   \n",
       "\n",
       "        dst_host_same_srv_rate  dst_host_diff_srv_rate  \\\n",
       "494010                     1.0                     0.0   \n",
       "494011                     1.0                     0.0   \n",
       "494012                     1.0                     0.0   \n",
       "494013                     1.0                     0.0   \n",
       "494014                     1.0                     0.0   \n",
       "494015                     1.0                     0.0   \n",
       "494016                     1.0                     0.0   \n",
       "494017                     1.0                     0.0   \n",
       "494018                     1.0                     0.0   \n",
       "494019                     1.0                     0.0   \n",
       "\n",
       "        dst_host_same_src_port_rate  dst_host_srv_diff_host_rate  \\\n",
       "494010                         0.03                         0.06   \n",
       "494011                         0.02                         0.05   \n",
       "494012                         0.02                         0.05   \n",
       "494013                         0.02                         0.05   \n",
       "494014                         0.01                         0.05   \n",
       "494015                         0.01                         0.05   \n",
       "494016                         0.17                         0.05   \n",
       "494017                         0.06                         0.05   \n",
       "494018                         0.04                         0.05   \n",
       "494019                         0.17                         0.05   \n",
       "\n",
       "        dst_host_serror_rate  dst_host_srv_serror_rate  dst_host_rerror_rate  \\\n",
       "494010                  0.00                      0.01                   0.0   \n",
       "494011                  0.00                      0.01                   0.0   \n",
       "494012                  0.00                      0.01                   0.0   \n",
       "494013                  0.00                      0.01                   0.0   \n",
       "494014                  0.00                      0.01                   0.0   \n",
       "494015                  0.00                      0.01                   0.0   \n",
       "494016                  0.00                      0.01                   0.0   \n",
       "494017                  0.06                      0.01                   0.0   \n",
       "494018                  0.04                      0.01                   0.0   \n",
       "494019                  0.00                      0.01                   0.0   \n",
       "\n",
       "        dst_host_srv_rerror_rate    class  \n",
       "494010                       0.0  normal.  \n",
       "494011                       0.0  normal.  \n",
       "494012                       0.0  normal.  \n",
       "494013                       0.0  normal.  \n",
       "494014                       0.0  normal.  \n",
       "494015                       0.0  normal.  \n",
       "494016                       0.0  normal.  \n",
       "494017                       0.0  normal.  \n",
       "494018                       0.0  normal.  \n",
       "494019                       0.0  normal.  \n",
       "\n",
       "[10 rows x 42 columns]"
      ]
     },
     "execution_count": 9,
     "metadata": {},
     "output_type": "execute_result"
    }
   ],
   "source": [
    "#insert your code here\n",
    "\n",
    "df_new.tail(10)"
   ]
  },
  {
   "cell_type": "code",
   "execution_count": 7,
   "metadata": {},
   "outputs": [
    {
     "ename": "SyntaxError",
     "evalue": "invalid syntax (<ipython-input-7-a584fa00cd8f>, line 1)",
     "output_type": "error",
     "traceback": [
      "\u001b[0;36m  File \u001b[0;32m\"<ipython-input-7-a584fa00cd8f>\"\u001b[0;36m, line \u001b[0;32m1\u001b[0m\n\u001b[0;31m    yes the headers are correct\u001b[0m\n\u001b[0m          ^\u001b[0m\n\u001b[0;31mSyntaxError\u001b[0m\u001b[0;31m:\u001b[0m invalid syntax\n"
     ]
    }
   ],
   "source": [
    "yes the headers are correct"
   ]
  },
  {
   "cell_type": "markdown",
   "metadata": {},
   "source": [
    "** Exercice 1: ** \n",
    "\n",
    "    -(1). List column types.\n",
    "    -(2). Use duplicated() method of the dataframe class to indentify redundant records.\n",
    "    -(3). Check the type of the returned values.\n",
    "    -(4). Print some returned values.\n",
    "    -(5). Compute the tolal number of duplicated records.\n",
    "\n",
    "    "
   ]
  },
  {
   "cell_type": "code",
   "execution_count": 12,
   "metadata": {},
   "outputs": [
    {
     "name": "stdout",
     "output_type": "stream",
     "text": [
      "<class 'pandas.core.frame.DataFrame'>\n"
     ]
    }
   ],
   "source": [
    "#Insert your code here\n",
    "print(type(df_new))\n",
    "#print(df_new.dtypes)\n",
    "#print(type(dup_ds))\n",
    "#print(dup_ds.dtypes)\n",
    "#print(dup_ds.shape)\n",
    "\n",
    "            "
   ]
  },
  {
   "cell_type": "code",
   "execution_count": 63,
   "metadata": {},
   "outputs": [],
   "source": [
    "unique_rows_df = dataset.drop_duplicates()"
   ]
  },
  {
   "cell_type": "code",
   "execution_count": 56,
   "metadata": {},
   "outputs": [
    {
     "data": {
      "text/plain": [
       "(494021, 42)"
      ]
     },
     "execution_count": 56,
     "metadata": {},
     "output_type": "execute_result"
    }
   ],
   "source": [
    "dataset[dataset.isnull() == True].shape"
   ]
  },
  {
   "cell_type": "code",
   "execution_count": 61,
   "metadata": {},
   "outputs": [
    {
     "data": {
      "text/plain": [
       "(145586, 42)"
      ]
     },
     "execution_count": 61,
     "metadata": {},
     "output_type": "execute_result"
    }
   ],
   "source": [
    "dataset[dataset.duplicated() == False].shape\n",
    "#End"
   ]
  },
  {
   "cell_type": "markdown",
   "metadata": {},
   "source": [
    "## II. data Viz. Basics"
   ]
  },
  {
   "cell_type": "markdown",
   "metadata": {},
   "source": [
    "To be able to embed graphic visualization on the same notebook use the **inline** backend with the following ***magic function***."
   ]
  },
  {
   "cell_type": "code",
   "execution_count": 64,
   "metadata": {},
   "outputs": [],
   "source": [
    "%matplotlib inline\n",
    "#%matplotlib widget\n"
   ]
  },
  {
   "cell_type": "markdown",
   "metadata": {},
   "source": [
    "**-1** Run the 2  following blocks of code"
   ]
  },
  {
   "cell_type": "code",
   "execution_count": 65,
   "metadata": {},
   "outputs": [],
   "source": [
    "import numpy as np "
   ]
  },
  {
   "cell_type": "code",
   "execution_count": 67,
   "metadata": {},
   "outputs": [
    {
     "data": {
      "text/plain": [
       "(array([  1.,   0.,   0.,   0.,   0.,   1.,   1.,   0.,   1.,   0.,   0.,\n",
       "          0.,   2.,   4.,   6.,   6.,   5.,  11.,   8.,  19.,  16.,  22.,\n",
       "         27.,  33.,  44.,  42.,  54.,  61.,  64.,  75.,  96., 113., 109.,\n",
       "        131., 144., 150., 184., 177., 234., 214., 237., 223., 288., 286.,\n",
       "        259., 282., 303., 301., 300., 305., 310., 346., 333., 286., 318.,\n",
       "        298., 293., 262., 259., 252., 240., 223., 191., 186., 159., 160.,\n",
       "        124., 139.,  96., 105.,  72.,  79.,  56.,  51.,  58.,  45.,  42.,\n",
       "         30.,  23.,  28.,  19.,  17.,   7.,  13.,  13.,   2.,   5.,   4.,\n",
       "          6.,   5.,   1.,   1.,   1.,   1.,   0.,   0.,   0.,   0.,   0.,\n",
       "          2.]),\n",
       " array([-4.0696178 , -3.98881588, -3.90801397, -3.82721205, -3.74641013,\n",
       "        -3.66560821, -3.5848063 , -3.50400438, -3.42320246, -3.34240054,\n",
       "        -3.26159863, -3.18079671, -3.09999479, -3.01919287, -2.93839096,\n",
       "        -2.85758904, -2.77678712, -2.6959852 , -2.61518329, -2.53438137,\n",
       "        -2.45357945, -2.37277753, -2.29197562, -2.2111737 , -2.13037178,\n",
       "        -2.04956986, -1.96876795, -1.88796603, -1.80716411, -1.72636219,\n",
       "        -1.64556028, -1.56475836, -1.48395644, -1.40315452, -1.32235261,\n",
       "        -1.24155069, -1.16074877, -1.07994685, -0.99914494, -0.91834302,\n",
       "        -0.8375411 , -0.75673918, -0.67593727, -0.59513535, -0.51433343,\n",
       "        -0.43353151, -0.3527296 , -0.27192768, -0.19112576, -0.11032384,\n",
       "        -0.02952192,  0.05127999,  0.13208191,  0.21288383,  0.29368575,\n",
       "         0.37448766,  0.45528958,  0.5360915 ,  0.61689342,  0.69769533,\n",
       "         0.77849725,  0.85929917,  0.94010109,  1.020903  ,  1.10170492,\n",
       "         1.18250684,  1.26330876,  1.34411067,  1.42491259,  1.50571451,\n",
       "         1.58651643,  1.66731834,  1.74812026,  1.82892218,  1.9097241 ,\n",
       "         1.99052601,  2.07132793,  2.15212985,  2.23293177,  2.31373368,\n",
       "         2.3945356 ,  2.47533752,  2.55613944,  2.63694135,  2.71774327,\n",
       "         2.79854519,  2.87934711,  2.96014902,  3.04095094,  3.12175286,\n",
       "         3.20255478,  3.28335669,  3.36415861,  3.44496053,  3.52576245,\n",
       "         3.60656436,  3.68736628,  3.7681682 ,  3.84897012,  3.92977203,\n",
       "         4.01057395]),\n",
       " <a list of 100 Patch objects>)"
      ]
     },
     "execution_count": 67,
     "metadata": {},
     "output_type": "execute_result"
    },
    {
     "data": {
      "image/png": "[encoded data removed]",
      "text/plain": [
       "<Figure size 432x288 with 1 Axes>"
      ]
     },
     "metadata": {
      "needs_background": "light"
     },
     "output_type": "display_data"
    }
   ],
   "source": [
    "x= np.random.randn(10000)\n",
    "plt2.hist(x,100)"
   ]
  },
  {
   "cell_type": "markdown",
   "metadata": {},
   "source": [
    "**2-** The following code will plot the number of files accessed for every record in a sequential way "
   ]
  },
  {
   "cell_type": "code",
   "execution_count": 94,
   "metadata": {},
   "outputs": [
    {
     "name": "stdout",
     "output_type": "stream",
     "text": [
      "<class 'pandas.core.frame.DataFrame'>\n"
     ]
    },
    {
     "data": {
      "text/plain": [
       "num_compromised       767\n",
       "service            telnet\n",
       "Name: 41718, dtype: object"
      ]
     },
     "execution_count": 94,
     "metadata": {},
     "output_type": "execute_result"
    },
    {
     "data": {
      "image/png": "[encoded data removed]",
      "text/plain": [
       "<Figure size 432x288 with 1 Axes>"
      ]
     },
     "metadata": {
      "needs_background": "light"
     },
     "output_type": "display_data"
    }
   ],
   "source": [
    "dataset[dataset.num_access_files > 5].num_access_files.plot(kind='bar', legend= True)\n",
    "dataset.loc[41718, ['num_compromised','service']]"
   ]
  },
  {
   "cell_type": "markdown",
   "metadata": {},
   "source": [
    "**-3-** Similarly plot the number of root accesses"
   ]
  },
  {
   "cell_type": "code",
   "execution_count": 95,
   "metadata": {},
   "outputs": [
    {
     "data": {
      "text/plain": [
       "Text(0.5, 1.0, ':)')"
      ]
     },
     "execution_count": 95,
     "metadata": {},
     "output_type": "execute_result"
    },
    {
     "data": {
      "image/png": "[encoded data removed]",
      "text/plain": [
       "<Figure size 432x288 with 1 Axes>"
      ]
     },
     "metadata": {
      "needs_background": "light"
     },
     "output_type": "display_data"
    }
   ],
   "source": [
    "# insert your code here\n",
    "dp = dataset[dataset.num_root >= 10].num_root.plot(kind='bar', legend=True, title=\"Root access\")\n",
    "dp.set_xlabel(\"Packet number\")\n",
    "dp.set_ylabel(\"Root access number\")\n"
   ]
  },
  {
   "cell_type": "markdown",
   "metadata": {},
   "source": [
    "**-4-** Add a title to the above chart"
   ]
  },
  {
   "cell_type": "markdown",
   "metadata": {},
   "source": [
    "**-5-** Add titles to both chart dimensions (axes)"
   ]
  },
  {
   "cell_type": "markdown",
   "metadata": {},
   "source": [
    "** Exercice 2: **\n",
    "    \n",
    "    - Plot the number of files created \n",
    "    - Add legend and titles\n",
    "    - Compare the number of files created chart to the root access count chart. \n",
    "    What can you conclude? Extract meaningful insights from the charts."
   ]
  },
  {
   "cell_type": "code",
   "execution_count": null,
   "metadata": {},
   "outputs": [],
   "source": [
    "# insert your code here\n",
    "dfc = dataset.num_file_creations.plot(kind='line', title='Files created', legend=True, logy=True)\n",
    "dfc.set_xlabel(\"files\")\n",
    "dfc.set_ylabel(\"number\")\n",
    "# insert your code here\n",
    "dp = dataset.root_shell.plot(kind='line', legend=True, title=\"Root access\", x='num_root', y='num_file_creations')"
   ]
  },
  {
   "cell_type": "markdown",
   "metadata": {},
   "source": [
    "** Exercice 3: **\n",
    "    \n",
    "    Using the stats and the code of the duplicated records plot the distribution of \n",
    "    duplicated and unique KDD benchmark records\n",
    "    - Add legend adn titles\n",
    "    - Suggest another charting type "
   ]
  },
  {
   "cell_type": "code",
   "execution_count": 17,
   "metadata": {},
   "outputs": [
    {
     "data": {
      "text/plain": [
       "([<matplotlib.patches.Wedge at 0x7f17d9908f60>,\n",
       "  <matplotlib.patches.Wedge at 0x7f17d9913470>],\n",
       " [Text(-0.6613060779677389, 0.8790189254179497, 'Duplicate'),\n",
       "  Text(0.6613060779677391, -0.8790189254179495, 'Unique')])"
      ]
     },
     "execution_count": 17,
     "metadata": {},
     "output_type": "execute_result"
    },
    {
     "data": {
      "image/png": "[encoded data removed]",
      "text/plain": [
       "<Figure size 432x288 with 1 Axes>"
      ]
     },
     "metadata": {},
     "output_type": "display_data"
    }
   ],
   "source": [
    "dup_ds = dataset[dataset.duplicated(keep=\"first\")]\n",
    "unique_s = dataset[dataset.duplicated(keep=\"first\") == False]\n",
    "plt.pyplot.pie([dup_ds.shape[0], unique_s.shape[0]], labels=['Duplicate', 'Unique'])"
   ]
  },
  {
   "cell_type": "markdown",
   "metadata": {},
   "source": [
    "** Exercice 4: **\n",
    "    \n",
    "    Using the class column of the KDD benchmark:\n",
    "        -compute the frequency of available values.\n",
    "        - Which charting type is more suitable for such type of data\n",
    "        - plot the data \n",
    "        - add titles and legends\n",
    "        - plot in a separate chart the frequencies of each type of attack \n",
    "        - save chart using savefig() method"
   ]
  },
  {
   "cell_type": "code",
   "execution_count": 101,
   "metadata": {},
   "outputs": [
    {
     "data": {
      "text/plain": [
       "Text(0, 0.5, 'frequency')"
      ]
     },
     "execution_count": 101,
     "metadata": {},
     "output_type": "execute_result"
    },
    {
     "data": {
      "image/png": "[encoded data removed]",
      "text/plain": [
       "<Figure size 432x288 with 1 Axes>"
      ]
     },
     "metadata": {
      "needs_background": "light"
     },
     "output_type": "display_data"
    }
   ],
   "source": [
    "# insert your code here\n",
    "dataset_new = pnd.read_csv(\"./new_dataset.csv\")\n",
    "dataset_new['class'] = dataset_new['class'].map(lambda x: x[:-1])\n",
    "p = dataset_new['class'].value_counts().plot(kind='bar', title=\"Attack frequency\", logy=True)\n",
    "p.set_xlabel('attack')\n",
    "p.set_ylabel('frequency')"
   ]
  },
  {
   "cell_type": "code",
   "execution_count": null,
   "metadata": {},
   "outputs": [],
   "source": [
    "# insert your code here"
   ]
  },
  {
   "cell_type": "code",
   "execution_count": 1,
   "metadata": {},
   "outputs": [
    {
     "ename": "SyntaxError",
     "evalue": "invalid syntax (<ipython-input-1-f1eac0e311b9>, line 1)",
     "output_type": "error",
     "traceback": [
      "\u001b[0;36m  File \u001b[0;32m\"<ipython-input-1-f1eac0e311b9>\"\u001b[0;36m, line \u001b[0;32m1\u001b[0m\n\u001b[0;31m    ** Exercice 5: **\u001b[0m\n\u001b[0m     ^\u001b[0m\n\u001b[0;31mSyntaxError\u001b[0m\u001b[0;31m:\u001b[0m invalid syntax\n"
     ]
    }
   ],
   "source": [
    "** Exercice 5: **\n",
    "    \n",
    "    -°Plot a chart illustrating connections duration \n",
    "    - Use a histogram to plot the same column\n",
    "    - What can you conclude?\n",
    "    - Using python ducmentation (help function) use bin parameter to fine tune the histogram chart.\n",
    "    - plot the same chart for records having 'normal' behavior and  a plot attack records.\n",
    "    - use groupby() and pivot() methods to plot a heatmap of the mean duration of attacks. \n"
   ]
  },
  {
   "cell_type": "code",
   "execution_count": 104,
   "metadata": {},
   "outputs": [
    {
     "data": {
      "text/plain": [
       "<matplotlib.axes._subplots.AxesSubplot at 0x7feb7f52de48>"
      ]
     },
     "execution_count": 104,
     "metadata": {},
     "output_type": "execute_result"
    },
    {
     "data": {
      "image/png": "[encoded data removed]",
      "text/plain": [
       "<Figure size 432x288 with 1 Axes>"
      ]
     },
     "metadata": {
      "needs_background": "light"
     },
     "output_type": "display_data"
    }
   ],
   "source": [
    "dataset_new.duration.plot(kind='line', logy=True)"
   ]
  },
  {
   "cell_type": "code",
   "execution_count": 114,
   "metadata": {},
   "outputs": [
    {
     "data": {
      "text/plain": [
       "<matplotlib.axes._subplots.AxesSubplot at 0x7feb7b4a5908>"
      ]
     },
     "execution_count": 114,
     "metadata": {},
     "output_type": "execute_result"
    },
    {
     "data": {
      "image/png": "[encoded data removed]",
      "text/plain": [
       "<Figure size 432x288 with 1 Axes>"
      ]
     },
     "metadata": {
      "needs_background": "light"
     },
     "output_type": "display_data"
    }
   ],
   "source": [
    "dataset_new['duration'].plot(kind='hist', logy=True, bins=1000)\n"
   ]
  },
  {
   "cell_type": "code",
   "execution_count": 117,
   "metadata": {},
   "outputs": [
    {
     "data": {
      "text/plain": [
       "<matplotlib.axes._subplots.AxesSubplot at 0x7feb7a104128>"
      ]
     },
     "execution_count": 117,
     "metadata": {},
     "output_type": "execute_result"
    },
    {
     "data": {
      "image/png": "[encoded data removed]",
      "text/plain": [
       "<Figure size 432x288 with 1 Axes>"
      ]
     },
     "metadata": {
      "needs_background": "light"
     },
     "output_type": "display_data"
    }
   ],
   "source": [
    "dataset_new[dataset_new['class'] == 'normal']['duration'].plot(kind='hist', logy=True, bins=100)\n"
   ]
  },
  {
   "cell_type": "code",
   "execution_count": 21,
   "metadata": {},
   "outputs": [
    {
     "name": "stdout",
     "output_type": "stream",
     "text": [
      "duration is not 0: 12350 \n",
      "duration is 0 : 481671\n"
     ]
    }
   ],
   "source": [
    "print(\"duration is not 0: {} \".format(dataset_new[dataset_new['duration'] > 0]['duration'].count()))\n",
    "print(\"duration is 0 : {}\" .format(dataset_new[dataset_new['duration'] == 0]['duration'].count()))\n",
    "#Conclusion: the distribution is not evenly distributed, 0 duration count is so much bigger than >0 duration count"
   ]
  },
  {
   "cell_type": "code",
   "execution_count": 22,
   "metadata": {},
   "outputs": [
    {
     "data": {
      "text/plain": [
       "<matplotlib.axes._subplots.AxesSubplot at 0x7f17bdc12710>"
      ]
     },
     "execution_count": 22,
     "metadata": {},
     "output_type": "execute_result"
    },
    {
     "data": {
      "image/png": "[encoded data removed]",
      "text/plain": [
       "<Figure size 432x288 with 1 Axes>"
      ]
     },
     "metadata": {
      "needs_background": "light"
     },
     "output_type": "display_data"
    }
   ],
   "source": [
    "bins = [0.9, 1, 2, 3, 4, 5, 7]\n",
    "df = dataset_new.groupby(pnd.cut(dataset_new['duration'], bins=bins)).duration.count()\n",
    "df.plot(kind='bar')"
   ]
  },
  {
   "cell_type": "code",
   "execution_count": 119,
   "metadata": {
    "scrolled": true
   },
   "outputs": [
    {
     "data": {
      "text/plain": [
       "<matplotlib.axes._subplots.AxesSubplot at 0x7feb79e53400>"
      ]
     },
     "execution_count": 119,
     "metadata": {},
     "output_type": "execute_result"
    },
    {
     "data": {
      "image/png": "[encoded data removed]",
      "text/plain": [
       "<Figure size 432x288 with 2 Axes>"
      ]
     },
     "metadata": {
      "needs_background": "light"
     },
     "output_type": "display_data"
    }
   ],
   "source": [
    "date_array = dataset_new.groupby(['duration'])['duration'].mean()\n",
    "sns.heatmap([date_array[:]])\n"
   ]
  },
  {
   "cell_type": "code",
   "execution_count": 155,
   "metadata": {},
   "outputs": [
    {
     "data": {
      "text/plain": [
       "<matplotlib.axes._subplots.AxesSubplot at 0x7feb700c62e8>"
      ]
     },
     "execution_count": 155,
     "metadata": {},
     "output_type": "execute_result"
    },
    {
     "data": {
      "image/png": "[encoded data removed]",
      "text/plain": [
       "<Figure size 432x288 with 2 Axes>"
      ]
     },
     "metadata": {
      "needs_background": "light"
     },
     "output_type": "display_data"
    }
   ],
   "source": [
    "piv = pnd.pivot_table(dataset_new[dataset_new['class'] != 'normal'], values='duration', columns=['class'], fill_value=0)\n",
    "sns.heatmap(piv)"
   ]
  },
  {
   "cell_type": "markdown",
   "metadata": {},
   "source": [
    " <hr>\n",
    "Copyright &copy; Oct-2018 Dr.Amir Esseghir"
   ]
  },
  {
   "cell_type": "code",
   "execution_count": 4,
   "metadata": {},
   "outputs": [
    {
     "ename": "AttributeError",
     "evalue": "module 'matplotlib' has no attribute 'plot'",
     "output_type": "error",
     "traceback": [
      "\u001b[0;31m---------------------------------------------------------------------------\u001b[0m",
      "\u001b[0;31mAttributeError\u001b[0m                            Traceback (most recent call last)",
      "\u001b[0;32m<ipython-input-4-acfc14e0c8c2>\u001b[0m in \u001b[0;36m<module>\u001b[0;34m\u001b[0m\n\u001b[0;32m----> 1\u001b[0;31m \u001b[0mprint\u001b[0m\u001b[0;34m(\u001b[0m\u001b[0mplt\u001b[0m\u001b[0;34m.\u001b[0m\u001b[0mplot\u001b[0m\u001b[0;34m.\u001b[0m\u001b[0m__doc__\u001b[0m\u001b[0;34m)\u001b[0m\u001b[0;34m\u001b[0m\u001b[0;34m\u001b[0m\u001b[0m\n\u001b[0m",
      "\u001b[0;31mAttributeError\u001b[0m: module 'matplotlib' has no attribute 'plot'"
     ]
    }
   ],
   "source": [
    "print(plt.plot.__doc__)"
   ]
  },
  {
   "cell_type": "code",
   "execution_count": null,
   "metadata": {},
   "outputs": [],
   "source": []
  }
 ],
 "metadata": {
  "kernelspec": {
   "display_name": "Python 3",
   "language": "python",
   "name": "python3"
  },
  "language_info": {
   "codemirror_mode": {
    "name": "ipython",
    "version": 3
   },
   "file_extension": ".py",
   "mimetype": "text/x-python",
   "name": "python",
   "nbconvert_exporter": "python",
   "pygments_lexer": "ipython3",
   "version": "3.7.1"
  }
 },
 "nbformat": 4,
 "nbformat_minor": 2
}
