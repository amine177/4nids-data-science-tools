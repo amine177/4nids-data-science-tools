{
 "cells": [
  {
   "cell_type": "markdown",
   "metadata": {},
   "source": [
    "<a href=\"http://esprit.tn\"><img src = \"https://upload.wikimedia.org/wikipedia/commons/f/ff/Logo_ESPRIT_Ariana.jpg\" width = 300, align = \"center\"></a>\n",
    "\n",
    "\n",
    "\n",
    "<h1 align=center><font size = 5>Lab 7.1: KDD-99 - EDA - E.T.L </font></h1>\n",
    "\n",
    "Estimated duration: 30 min"
   ]
  },
  {
   "cell_type": "markdown",
   "metadata": {},
   "source": [
    "The goal of this lab is to update the KDD benchmark by adding the following features:\n",
    "\n",
    "- Update the class column by removing the dot at the end of each class label\n",
    "- Add a new column for binary classification by keeping only two values: normal and attack\n",
    "- Add a column that is able to provide classification according to the type of the attack (i.e 'probing', 'dos', 'u2r', 'r2l') , in addtion to ordinary trafic connection having 'normal' tag.\n"
   ]
  },
  {
   "cell_type": "markdown",
   "metadata": {},
   "source": [
    "## A- Loading python modules"
   ]
  },
  {
   "cell_type": "code",
   "execution_count": 3,
   "metadata": {},
   "outputs": [],
   "source": [
    "import datetime\n",
    "import csv\n",
    "import pandas as pnd\n",
    "\n",
    "\n",
    "import matplotlib as plt\n",
    "from matplotlib import pyplot as plt2\n",
    "import numpy as np "
   ]
  },
  {
   "cell_type": "markdown",
   "metadata": {},
   "source": [
    "**(1)- **  Explain in one sentence the usefulness of each module."
   ]
  },
  {
   "cell_type": "code",
   "execution_count": 4,
   "metadata": {},
   "outputs": [
    {
     "ename": "SyntaxError",
     "evalue": "invalid syntax (<ipython-input-4-7fb25bcbb13b>, line 1)",
     "output_type": "error",
     "traceback": [
      "\u001b[0;36m  File \u001b[0;32m\"<ipython-input-4-7fb25bcbb13b>\"\u001b[0;36m, line \u001b[0;32m1\u001b[0m\n\u001b[0;31m    datatime : gets time information for benchmarking\u001b[0m\n\u001b[0m                       ^\u001b[0m\n\u001b[0;31mSyntaxError\u001b[0m\u001b[0;31m:\u001b[0m invalid syntax\n"
     ]
    }
   ],
   "source": [
    "datatime : gets time information for benchmarking\n",
    "csv : manipulate csv files\n",
    "pandas : use the dataframe\n",
    "matplotlib : for plotting\n",
    "numpy : for algebric and matricial functions"
   ]
  },
  {
   "cell_type": "code",
   "execution_count": null,
   "metadata": {},
   "outputs": [],
   "source": []
  },
  {
   "cell_type": "markdown",
   "metadata": {},
   "source": [
    "From matplotlib import pyplot as plt2: \n",
    "\n",
    "we import pyplot package from Matplotlib module.\n",
    "**Pyplot** is the scripting component of **Matplotlib**."
   ]
  },
  {
   "cell_type": "code",
   "execution_count": null,
   "metadata": {},
   "outputs": [],
   "source": []
  },
  {
   "cell_type": "code",
   "execution_count": null,
   "metadata": {},
   "outputs": [],
   "source": []
  },
  {
   "cell_type": "markdown",
   "metadata": {},
   "source": [
    "#### Loading data "
   ]
  },
  {
   "cell_type": "markdown",
   "metadata": {},
   "source": [
    "**(2)-** Provide the data set file generated with columns:"
   ]
  },
  {
   "cell_type": "code",
   "execution_count": 5,
   "metadata": {},
   "outputs": [],
   "source": [
    "path = './kddcup.data_10_percent_corrected'\n",
    "path_meta= './kddcup.names'\n",
    "# path of the data set generated with header column names\n",
    "path_new='./new_dataset.csv'\n",
    "path_4_classes= './training_attack_types'"
   ]
  },
  {
   "cell_type": "code",
   "execution_count": 6,
   "metadata": {},
   "outputs": [
    {
     "name": "stdout",
     "output_type": "stream",
     "text": [
      "0:00:00.000063\n",
      "Elapsed time 0:00:00.000070\n"
     ]
    },
    {
     "data": {
      "text/plain": [
       "datetime.timedelta(microseconds=70)"
      ]
     },
     "execution_count": 6,
     "metadata": {},
     "output_type": "execute_result"
    }
   ],
   "source": [
    "t=datetime.datetime.now()\n",
    "print(datetime.datetime.now()- t)\n",
    "\n",
    "def init_chrono():\n",
    "    return datetime.datetime.now()\n",
    "\n",
    "def elapsed_time(t):\n",
    "    if t:\n",
    "        delta = init_chrono() - t\n",
    "        print ('Elapsed time', delta)\n",
    "        return delta \n",
    "    \n",
    "# test\n",
    "t = init_chrono()\n",
    "elapsed_time(t)"
   ]
  },
  {
   "cell_type": "markdown",
   "metadata": {},
   "source": [
    "**(3)- ** Load the KDD dataset using Pandas module "
   ]
  },
  {
   "cell_type": "code",
   "execution_count": 7,
   "metadata": {},
   "outputs": [],
   "source": [
    "def read_csv(path):\n",
    "    return pnd.read_csv(path)"
   ]
  },
  {
   "cell_type": "code",
   "execution_count": 9,
   "metadata": {},
   "outputs": [
    {
     "name": "stdout",
     "output_type": "stream",
     "text": [
      "   Unnamed: 0  duration protocol_type service flag  src_bytes  dst_bytes  \\\n",
      "0           0         0           tcp    http   SF        181       5450   \n",
      "1           1         0           tcp    http   SF        239        486   \n",
      "2           2         0           tcp    http   SF        235       1337   \n",
      "3           3         0           tcp    http   SF        219       1337   \n",
      "4           4         0           tcp    http   SF        217       2032   \n",
      "5           5         0           tcp    http   SF        217       2032   \n",
      "6           6         0           tcp    http   SF        212       1940   \n",
      "7           7         0           tcp    http   SF        159       4087   \n",
      "8           8         0           tcp    http   SF        210        151   \n",
      "9           9         0           tcp    http   SF        212        786   \n",
      "\n",
      "   land  wrong_fragment  urgent   ...     dst_host_srv_count  \\\n",
      "0     0               0       0   ...                      9   \n",
      "1     0               0       0   ...                     19   \n",
      "2     0               0       0   ...                     29   \n",
      "3     0               0       0   ...                     39   \n",
      "4     0               0       0   ...                     49   \n",
      "5     0               0       0   ...                     59   \n",
      "6     0               0       0   ...                     69   \n",
      "7     0               0       0   ...                     79   \n",
      "8     0               0       0   ...                     89   \n",
      "9     0               0       0   ...                     99   \n",
      "\n",
      "   dst_host_same_srv_rate  dst_host_diff_srv_rate  \\\n",
      "0                     1.0                     0.0   \n",
      "1                     1.0                     0.0   \n",
      "2                     1.0                     0.0   \n",
      "3                     1.0                     0.0   \n",
      "4                     1.0                     0.0   \n",
      "5                     1.0                     0.0   \n",
      "6                     1.0                     0.0   \n",
      "7                     1.0                     0.0   \n",
      "8                     1.0                     0.0   \n",
      "9                     1.0                     0.0   \n",
      "\n",
      "   dst_host_same_src_port_rate  dst_host_srv_diff_host_rate  \\\n",
      "0                         0.11                         0.00   \n",
      "1                         0.05                         0.00   \n",
      "2                         0.03                         0.00   \n",
      "3                         0.03                         0.00   \n",
      "4                         0.02                         0.00   \n",
      "5                         0.02                         0.00   \n",
      "6                         1.00                         0.04   \n",
      "7                         0.09                         0.04   \n",
      "8                         0.12                         0.04   \n",
      "9                         0.12                         0.05   \n",
      "\n",
      "   dst_host_serror_rate  dst_host_srv_serror_rate  dst_host_rerror_rate  \\\n",
      "0                   0.0                       0.0                   0.0   \n",
      "1                   0.0                       0.0                   0.0   \n",
      "2                   0.0                       0.0                   0.0   \n",
      "3                   0.0                       0.0                   0.0   \n",
      "4                   0.0                       0.0                   0.0   \n",
      "5                   0.0                       0.0                   0.0   \n",
      "6                   0.0                       0.0                   0.0   \n",
      "7                   0.0                       0.0                   0.0   \n",
      "8                   0.0                       0.0                   0.0   \n",
      "9                   0.0                       0.0                   0.0   \n",
      "\n",
      "   dst_host_srv_rerror_rate    class  \n",
      "0                       0.0  normal.  \n",
      "1                       0.0  normal.  \n",
      "2                       0.0  normal.  \n",
      "3                       0.0  normal.  \n",
      "4                       0.0  normal.  \n",
      "5                       0.0  normal.  \n",
      "6                       0.0  normal.  \n",
      "7                       0.0  normal.  \n",
      "8                       0.0  normal.  \n",
      "9                       0.0  normal.  \n",
      "\n",
      "[10 rows x 43 columns]\n",
      "Elapsed time 0:00:02.389325\n"
     ]
    },
    {
     "data": {
      "text/plain": [
       "datetime.timedelta(seconds=2, microseconds=389325)"
      ]
     },
     "execution_count": 9,
     "metadata": {},
     "output_type": "execute_result"
    }
   ],
   "source": [
    "\n",
    "\n",
    "t = init_chrono()\n",
    "\n",
    "# insert your code here\n",
    "dataset = read_csv(path_new)\n",
    "elapsed_time(t)"
   ]
  },
  {
   "cell_type": "markdown",
   "metadata": {},
   "source": [
    "**(4)- **\n",
    "\n",
    "The file './training_attack_types' provides for each attack it's type (i.e. dos, probing) one by row.\n",
    "The file is provided with lab notebook. Place it in the same folder as the notebook.\n",
    "\n",
    "    -(a)- Load the file \n",
    "    -(b)- Build from the loaded data a dict **Dict** in the form of <attack, type> (i.e. {'smurf':'dos'})\n"
   ]
  },
  {
   "cell_type": "code",
   "execution_count": 64,
   "metadata": {},
   "outputs": [
    {
     "name": "stdout",
     "output_type": "stream",
     "text": [
      "Elapsed time 0:00:00.001622\n"
     ]
    },
    {
     "data": {
      "text/plain": [
       "datetime.timedelta(microseconds=1622)"
      ]
     },
     "execution_count": 64,
     "metadata": {},
     "output_type": "execute_result"
    }
   ],
   "source": [
    "t = init_chrono()\n",
    "# insert your code here (a) and (b)\n",
    "f_attacks = open(path_4_classes, 'r')\n",
    "attack_dict = dict(map(lambda x: x[:-1].split(' '),list(filter(lambda x: x != '\\n', f_attacks.readlines()))))\n",
    "elapsed_time(t)\n"
   ]
  },
  {
   "cell_type": "code",
   "execution_count": null,
   "metadata": {},
   "outputs": [],
   "source": [
    "\n"
   ]
  },
  {
   "cell_type": "code",
   "execution_count": 65,
   "metadata": {},
   "outputs": [
    {
     "name": "stdout",
     "output_type": "stream",
     "text": [
      "{'back': 'dos', 'buffer_overflow': 'u2r', 'ftp_write': 'r2l', 'guess_passwd': 'r2l', 'imap': 'r2l', 'ipsweep': 'probe', 'land': 'dos', 'loadmodule': 'u2r', 'multihop': 'r2l', 'neptune': 'dos', 'nmap': 'probe', 'perl': 'u2r', 'phf': 'r2l', 'pod': 'dos', 'portsweep': 'probe', 'rootkit': 'u2r', 'satan': 'probe', 'smurf': 'dos', 'spy': 'r2l', 'teardrop': 'dos', 'warezclient': 'r2l', 'warezmaster': 'r2l'}\n"
     ]
    }
   ],
   "source": [
    "print(attack_dict)"
   ]
  },
  {
   "cell_type": "markdown",
   "metadata": {},
   "source": [
    "**(5)**- Build a fuction get_attack_family(attack) witch returns the family of a given attack.\n",
    "Example of returned values:\n",
    "\n",
    "  - att_family = get_attack_family('back')       #att_family= 'dos'\n",
    "  - att_family = get_attack_family('buffer_overflow')     #att_family= 'u2r'\n",
    "    "
   ]
  },
  {
   "cell_type": "code",
   "execution_count": 66,
   "metadata": {},
   "outputs": [
    {
     "name": "stdout",
     "output_type": "stream",
     "text": [
      "{'back': 'dos', 'buffer_overflow': 'u2r', 'ftp_write': 'r2l', 'guess_passwd': 'r2l', 'imap': 'r2l', 'ipsweep': 'probe', 'land': 'dos', 'loadmodule': 'u2r', 'multihop': 'r2l', 'neptune': 'dos', 'nmap': 'probe', 'perl': 'u2r', 'phf': 'r2l', 'pod': 'dos', 'portsweep': 'probe', 'rootkit': 'u2r', 'satan': 'probe', 'smurf': 'dos', 'spy': 'r2l', 'teardrop': 'dos', 'warezclient': 'r2l', 'warezmaster': 'r2l'}\n",
      "None\n",
      "dos\n"
     ]
    }
   ],
   "source": [
    "# insert your code here\n",
    "print(attack_dict)\n",
    "def attack_family(attack):\n",
    "    return 'normal' if attack == 'normal' else attack_dict[attack] if attack in attack_dict.keys() else None\n",
    "\n",
    "print(attack_family('noraml'))\n",
    "print(attack_family('back'))"
   ]
  },
  {
   "cell_type": "markdown",
   "metadata": {},
   "source": [
    "## B- Formatting class labels: "
   ]
  },
  {
   "cell_type": "markdown",
   "metadata": {},
   "source": [
    "Each value of the class column ends with a dot (i.e. 'normal.','imap.').\n",
    "During this section we will learn how to add a new and calculated columns to add to the dataset."
   ]
  },
  {
   "cell_type": "markdown",
   "metadata": {},
   "source": [
    "**1- ** Run the following code to learn how to add a column (duration_H) to a dataframe"
   ]
  },
  {
   "cell_type": "code",
   "execution_count": 67,
   "metadata": {},
   "outputs": [],
   "source": [
    "dataset2 = dataset\n",
    "dataset2['duration_H'] = dataset2['duration']"
   ]
  },
  {
   "cell_type": "code",
   "execution_count": 68,
   "metadata": {},
   "outputs": [
    {
     "data": {
      "text/html": [
       "<div>\n",
       "<style scoped>\n",
       "    .dataframe tbody tr th:only-of-type {\n",
       "        vertical-align: middle;\n",
       "    }\n",
       "\n",
       "    .dataframe tbody tr th {\n",
       "        vertical-align: top;\n",
       "    }\n",
       "\n",
       "    .dataframe thead th {\n",
       "        text-align: right;\n",
       "    }\n",
       "</style>\n",
       "<table border=\"1\" class=\"dataframe\">\n",
       "  <thead>\n",
       "    <tr style=\"text-align: right;\">\n",
       "      <th></th>\n",
       "      <th>duration_H</th>\n",
       "      <th>duration</th>\n",
       "    </tr>\n",
       "  </thead>\n",
       "  <tbody>\n",
       "    <tr>\n",
       "      <th>539</th>\n",
       "      <td>102</td>\n",
       "      <td>102</td>\n",
       "    </tr>\n",
       "    <tr>\n",
       "      <th>744</th>\n",
       "      <td>184</td>\n",
       "      <td>184</td>\n",
       "    </tr>\n",
       "    <tr>\n",
       "      <th>745</th>\n",
       "      <td>305</td>\n",
       "      <td>305</td>\n",
       "    </tr>\n",
       "    <tr>\n",
       "      <th>751</th>\n",
       "      <td>257</td>\n",
       "      <td>257</td>\n",
       "    </tr>\n",
       "    <tr>\n",
       "      <th>1577</th>\n",
       "      <td>216</td>\n",
       "      <td>216</td>\n",
       "    </tr>\n",
       "    <tr>\n",
       "      <th>3423</th>\n",
       "      <td>202</td>\n",
       "      <td>202</td>\n",
       "    </tr>\n",
       "    <tr>\n",
       "      <th>4026</th>\n",
       "      <td>12454</td>\n",
       "      <td>12454</td>\n",
       "    </tr>\n",
       "    <tr>\n",
       "      <th>4890</th>\n",
       "      <td>216</td>\n",
       "      <td>216</td>\n",
       "    </tr>\n",
       "    <tr>\n",
       "      <th>6748</th>\n",
       "      <td>289</td>\n",
       "      <td>289</td>\n",
       "    </tr>\n",
       "    <tr>\n",
       "      <th>7607</th>\n",
       "      <td>10774</td>\n",
       "      <td>10774</td>\n",
       "    </tr>\n",
       "  </tbody>\n",
       "</table>\n",
       "</div>"
      ],
      "text/plain": [
       "      duration_H  duration\n",
       "539          102       102\n",
       "744          184       184\n",
       "745          305       305\n",
       "751          257       257\n",
       "1577         216       216\n",
       "3423         202       202\n",
       "4026       12454     12454\n",
       "4890         216       216\n",
       "6748         289       289\n",
       "7607       10774     10774"
      ]
     },
     "execution_count": 68,
     "metadata": {},
     "output_type": "execute_result"
    }
   ],
   "source": [
    "sample= dataset2[['duration_H', 'duration']]\n",
    "sample= sample[sample['duration']>100]\n",
    "sample.head(10)"
   ]
  },
  {
   "cell_type": "markdown",
   "metadata": {},
   "source": [
    "The following code will compute connection duration in hours and assign the result to the ***Duration_H*** column"
   ]
  },
  {
   "cell_type": "code",
   "execution_count": 69,
   "metadata": {},
   "outputs": [],
   "source": [
    "dataset2['duration_H'] = dataset2['duration'].map(lambda x: x/3600)"
   ]
  },
  {
   "cell_type": "code",
   "execution_count": 70,
   "metadata": {},
   "outputs": [
    {
     "data": {
      "text/html": [
       "<div>\n",
       "<style scoped>\n",
       "    .dataframe tbody tr th:only-of-type {\n",
       "        vertical-align: middle;\n",
       "    }\n",
       "\n",
       "    .dataframe tbody tr th {\n",
       "        vertical-align: top;\n",
       "    }\n",
       "\n",
       "    .dataframe thead th {\n",
       "        text-align: right;\n",
       "    }\n",
       "</style>\n",
       "<table border=\"1\" class=\"dataframe\">\n",
       "  <thead>\n",
       "    <tr style=\"text-align: right;\">\n",
       "      <th></th>\n",
       "      <th>duration_H</th>\n",
       "      <th>duration</th>\n",
       "    </tr>\n",
       "  </thead>\n",
       "  <tbody>\n",
       "    <tr>\n",
       "      <th>4026</th>\n",
       "      <td>3.459444</td>\n",
       "      <td>12454</td>\n",
       "    </tr>\n",
       "    <tr>\n",
       "      <th>7607</th>\n",
       "      <td>2.992778</td>\n",
       "      <td>10774</td>\n",
       "    </tr>\n",
       "    <tr>\n",
       "      <th>22951</th>\n",
       "      <td>0.284167</td>\n",
       "      <td>1023</td>\n",
       "    </tr>\n",
       "    <tr>\n",
       "      <th>26559</th>\n",
       "      <td>1.690833</td>\n",
       "      <td>6087</td>\n",
       "    </tr>\n",
       "    <tr>\n",
       "      <th>26607</th>\n",
       "      <td>3.713333</td>\n",
       "      <td>13368</td>\n",
       "    </tr>\n",
       "    <tr>\n",
       "      <th>27233</th>\n",
       "      <td>0.841389</td>\n",
       "      <td>3029</td>\n",
       "    </tr>\n",
       "    <tr>\n",
       "      <th>27237</th>\n",
       "      <td>0.582222</td>\n",
       "      <td>2096</td>\n",
       "    </tr>\n",
       "    <tr>\n",
       "      <th>27293</th>\n",
       "      <td>0.841667</td>\n",
       "      <td>3030</td>\n",
       "    </tr>\n",
       "    <tr>\n",
       "      <th>27298</th>\n",
       "      <td>0.841667</td>\n",
       "      <td>3030</td>\n",
       "    </tr>\n",
       "    <tr>\n",
       "      <th>27303</th>\n",
       "      <td>0.841667</td>\n",
       "      <td>3030</td>\n",
       "    </tr>\n",
       "  </tbody>\n",
       "</table>\n",
       "</div>"
      ],
      "text/plain": [
       "       duration_H  duration\n",
       "4026     3.459444     12454\n",
       "7607     2.992778     10774\n",
       "22951    0.284167      1023\n",
       "26559    1.690833      6087\n",
       "26607    3.713333     13368\n",
       "27233    0.841389      3029\n",
       "27237    0.582222      2096\n",
       "27293    0.841667      3030\n",
       "27298    0.841667      3030\n",
       "27303    0.841667      3030"
      ]
     },
     "execution_count": 70,
     "metadata": {},
     "output_type": "execute_result"
    }
   ],
   "source": [
    "sample= dataset2[['duration_H', 'duration']]\n",
    "sample= sample[sample['duration']>1000]\n",
    "sample.head(10)"
   ]
  },
  {
   "cell_type": "markdown",
   "metadata": {},
   "source": [
    "**2-** Using lambda functions build a new column that removes the dot from the dot of the class labels.\n",
    "the result should be assigned to a new column named 'class2'"
   ]
  },
  {
   "cell_type": "code",
   "execution_count": 71,
   "metadata": {},
   "outputs": [
    {
     "name": "stdout",
     "output_type": "stream",
     "text": [
      "0         normal\n",
      "1         normal\n",
      "2         normal\n",
      "3         normal\n",
      "4         normal\n",
      "5         normal\n",
      "6         normal\n",
      "7         normal\n",
      "8         normal\n",
      "9         normal\n",
      "10        normal\n",
      "11        normal\n",
      "12        normal\n",
      "13        normal\n",
      "14        normal\n",
      "15        normal\n",
      "16        normal\n",
      "17        normal\n",
      "18        normal\n",
      "19        normal\n",
      "20        normal\n",
      "21        normal\n",
      "22        normal\n",
      "23        normal\n",
      "24        normal\n",
      "25        normal\n",
      "26        normal\n",
      "27        normal\n",
      "28        normal\n",
      "29        normal\n",
      "           ...  \n",
      "493991    normal\n",
      "493992    normal\n",
      "493993    normal\n",
      "493994    normal\n",
      "493995    normal\n",
      "493996    normal\n",
      "493997    normal\n",
      "493998    normal\n",
      "493999    normal\n",
      "494000    normal\n",
      "494001    normal\n",
      "494002    normal\n",
      "494003    normal\n",
      "494004    normal\n",
      "494005    normal\n",
      "494006    normal\n",
      "494007    normal\n",
      "494008    normal\n",
      "494009    normal\n",
      "494010    normal\n",
      "494011    normal\n",
      "494012    normal\n",
      "494013    normal\n",
      "494014    normal\n",
      "494015    normal\n",
      "494016    normal\n",
      "494017    normal\n",
      "494018    normal\n",
      "494019    normal\n",
      "494020    normal\n",
      "Name: class_no_dot, Length: 494021, dtype: object\n"
     ]
    }
   ],
   "source": [
    "dataset2['class_no_dot'] = dataset2['class'].map(lambda x: x[:-1])\n",
    "print(dataset2['class_no_dot'])"
   ]
  },
  {
   "cell_type": "markdown",
   "metadata": {},
   "source": [
    "## C- Building the column five_classes: "
   ]
  },
  {
   "cell_type": "markdown",
   "metadata": {},
   "source": [
    "**1- ** With the above defined function **get_attack_family** use the dataframe map() function to generate a column that provides the attack type of each record. "
   ]
  },
  {
   "cell_type": "code",
   "execution_count": 72,
   "metadata": {},
   "outputs": [
    {
     "name": "stdout",
     "output_type": "stream",
     "text": [
      "Elapsed time 0:00:00.208912\n"
     ]
    },
    {
     "data": {
      "text/plain": [
       "datetime.timedelta(microseconds=208912)"
      ]
     },
     "execution_count": 72,
     "metadata": {},
     "output_type": "execute_result"
    }
   ],
   "source": [
    "t= init_chrono()\n",
    "\n",
    "# insert your code here\n",
    "dataset2['attack'] = dataset2['class_no_dot'].map(attack_family)\n",
    "\n",
    "elapsed_time(t)"
   ]
  },
  {
   "cell_type": "markdown",
   "metadata": {},
   "source": [
    "** 2-** print the unique values of the newly generated column"
   ]
  },
  {
   "cell_type": "code",
   "execution_count": 73,
   "metadata": {},
   "outputs": [
    {
     "name": "stdout",
     "output_type": "stream",
     "text": [
      "['normal', 'u2r', 'dos', 'r2l', 'probe']\n"
     ]
    }
   ],
   "source": [
    "# insert your code here\n",
    "attacks = list(dataset2['attack'].unique())\n",
    "print(attacks)"
   ]
  },
  {
   "cell_type": "markdown",
   "metadata": {},
   "source": [
    "**3- **Compute the frequency of each element:"
   ]
  },
  {
   "cell_type": "code",
   "execution_count": 74,
   "metadata": {},
   "outputs": [
    {
     "data": {
      "text/plain": [
       "smurf              280790\n",
       "neptune            107201\n",
       "normal              97278\n",
       "back                 2203\n",
       "satan                1589\n",
       "ipsweep              1247\n",
       "portsweep            1040\n",
       "warezclient          1020\n",
       "teardrop              979\n",
       "pod                   264\n",
       "nmap                  231\n",
       "guess_passwd           53\n",
       "buffer_overflow        30\n",
       "land                   21\n",
       "warezmaster            20\n",
       "imap                   12\n",
       "rootkit                10\n",
       "loadmodule              9\n",
       "ftp_write               8\n",
       "multihop                7\n",
       "phf                     4\n",
       "perl                    3\n",
       "spy                     2\n",
       "Name: class_no_dot, dtype: int64"
      ]
     },
     "execution_count": 74,
     "metadata": {},
     "output_type": "execute_result"
    }
   ],
   "source": [
    "# insert your code here\n",
    "dataset2['class_no_dot'].value_counts()"
   ]
  },
  {
   "cell_type": "markdown",
   "metadata": {},
   "source": [
    "## D- Building a column for binary classification : "
   ]
  },
  {
   "cell_type": "markdown",
   "metadata": {},
   "source": [
    "Binary classification is the task of classifying the elements\n",
    "of a given set into two groups (predicting which group each one belongs to)\n",
    "on the basis of a classification rule or algorithm.\n",
    "In this section we will generate a column for binary classification. \n",
    "The 'bin_class' column will receive one of the two following values: \n",
    "\n",
    "    -'Normal'\n",
    "    -'Attack'"
   ]
  },
  {
   "cell_type": "markdown",
   "metadata": {},
   "source": [
    "**1-** Generate the bin_class column "
   ]
  },
  {
   "cell_type": "code",
   "execution_count": 75,
   "metadata": {},
   "outputs": [
    {
     "data": {
      "text/plain": [
       "<matplotlib.axes._subplots.AxesSubplot at 0x7fc7a2580630>"
      ]
     },
     "execution_count": 75,
     "metadata": {},
     "output_type": "execute_result"
    },
    {
     "data": {
      "image/png": "[encoded data removed]",
      "text/plain": [
       "<Figure size 432x288 with 1 Axes>"
      ]
     },
     "metadata": {
      "needs_background": "light"
     },
     "output_type": "display_data"
    }
   ],
   "source": [
    "# insert your code here\n",
    "dataset2['bin_class'] = dataset2['class_no_dot'].map(lambda x: 'Normal' if x == 'normal' else None if x == None else 'Attack')\n",
    "dataset2[dataset2['bin_class'] == 'Attack']\n",
    "dataset2['bin_class'].value_counts().plot(kind='bar')"
   ]
  },
  {
   "cell_type": "markdown",
   "metadata": {},
   "source": [
    "**3- **Compute the frequency column values:"
   ]
  },
  {
   "cell_type": "code",
   "execution_count": 76,
   "metadata": {},
   "outputs": [
    {
     "data": {
      "text/plain": [
       "Attack    396743\n",
       "Normal     97278\n",
       "Name: bin_class, dtype: int64"
      ]
     },
     "execution_count": 76,
     "metadata": {},
     "output_type": "execute_result"
    }
   ],
   "source": [
    "# insert your code here\n",
    "dataset2['bin_class'].value_counts()"
   ]
  },
  {
   "cell_type": "markdown",
   "metadata": {},
   "source": [
    "**4- ** Print a preview the newly generated column with initial class column"
   ]
  },
  {
   "cell_type": "code",
   "execution_count": 77,
   "metadata": {},
   "outputs": [
    {
     "data": {
      "text/html": [
       "<div>\n",
       "<style scoped>\n",
       "    .dataframe tbody tr th:only-of-type {\n",
       "        vertical-align: middle;\n",
       "    }\n",
       "\n",
       "    .dataframe tbody tr th {\n",
       "        vertical-align: top;\n",
       "    }\n",
       "\n",
       "    .dataframe thead th {\n",
       "        text-align: right;\n",
       "    }\n",
       "</style>\n",
       "<table border=\"1\" class=\"dataframe\">\n",
       "  <thead>\n",
       "    <tr style=\"text-align: right;\">\n",
       "      <th></th>\n",
       "      <th>class</th>\n",
       "      <th>bin_class</th>\n",
       "    </tr>\n",
       "  </thead>\n",
       "  <tbody>\n",
       "    <tr>\n",
       "      <th>0</th>\n",
       "      <td>normal.</td>\n",
       "      <td>Normal</td>\n",
       "    </tr>\n",
       "    <tr>\n",
       "      <th>1</th>\n",
       "      <td>normal.</td>\n",
       "      <td>Normal</td>\n",
       "    </tr>\n",
       "    <tr>\n",
       "      <th>2</th>\n",
       "      <td>normal.</td>\n",
       "      <td>Normal</td>\n",
       "    </tr>\n",
       "    <tr>\n",
       "      <th>3</th>\n",
       "      <td>normal.</td>\n",
       "      <td>Normal</td>\n",
       "    </tr>\n",
       "    <tr>\n",
       "      <th>4</th>\n",
       "      <td>normal.</td>\n",
       "      <td>Normal</td>\n",
       "    </tr>\n",
       "    <tr>\n",
       "      <th>5</th>\n",
       "      <td>normal.</td>\n",
       "      <td>Normal</td>\n",
       "    </tr>\n",
       "    <tr>\n",
       "      <th>6</th>\n",
       "      <td>normal.</td>\n",
       "      <td>Normal</td>\n",
       "    </tr>\n",
       "    <tr>\n",
       "      <th>7</th>\n",
       "      <td>normal.</td>\n",
       "      <td>Normal</td>\n",
       "    </tr>\n",
       "    <tr>\n",
       "      <th>8</th>\n",
       "      <td>normal.</td>\n",
       "      <td>Normal</td>\n",
       "    </tr>\n",
       "    <tr>\n",
       "      <th>9</th>\n",
       "      <td>normal.</td>\n",
       "      <td>Normal</td>\n",
       "    </tr>\n",
       "    <tr>\n",
       "      <th>10</th>\n",
       "      <td>normal.</td>\n",
       "      <td>Normal</td>\n",
       "    </tr>\n",
       "    <tr>\n",
       "      <th>11</th>\n",
       "      <td>normal.</td>\n",
       "      <td>Normal</td>\n",
       "    </tr>\n",
       "    <tr>\n",
       "      <th>12</th>\n",
       "      <td>normal.</td>\n",
       "      <td>Normal</td>\n",
       "    </tr>\n",
       "    <tr>\n",
       "      <th>13</th>\n",
       "      <td>normal.</td>\n",
       "      <td>Normal</td>\n",
       "    </tr>\n",
       "    <tr>\n",
       "      <th>14</th>\n",
       "      <td>normal.</td>\n",
       "      <td>Normal</td>\n",
       "    </tr>\n",
       "    <tr>\n",
       "      <th>15</th>\n",
       "      <td>normal.</td>\n",
       "      <td>Normal</td>\n",
       "    </tr>\n",
       "    <tr>\n",
       "      <th>16</th>\n",
       "      <td>normal.</td>\n",
       "      <td>Normal</td>\n",
       "    </tr>\n",
       "    <tr>\n",
       "      <th>17</th>\n",
       "      <td>normal.</td>\n",
       "      <td>Normal</td>\n",
       "    </tr>\n",
       "    <tr>\n",
       "      <th>18</th>\n",
       "      <td>normal.</td>\n",
       "      <td>Normal</td>\n",
       "    </tr>\n",
       "    <tr>\n",
       "      <th>19</th>\n",
       "      <td>normal.</td>\n",
       "      <td>Normal</td>\n",
       "    </tr>\n",
       "    <tr>\n",
       "      <th>20</th>\n",
       "      <td>normal.</td>\n",
       "      <td>Normal</td>\n",
       "    </tr>\n",
       "    <tr>\n",
       "      <th>21</th>\n",
       "      <td>normal.</td>\n",
       "      <td>Normal</td>\n",
       "    </tr>\n",
       "    <tr>\n",
       "      <th>22</th>\n",
       "      <td>normal.</td>\n",
       "      <td>Normal</td>\n",
       "    </tr>\n",
       "    <tr>\n",
       "      <th>23</th>\n",
       "      <td>normal.</td>\n",
       "      <td>Normal</td>\n",
       "    </tr>\n",
       "    <tr>\n",
       "      <th>24</th>\n",
       "      <td>normal.</td>\n",
       "      <td>Normal</td>\n",
       "    </tr>\n",
       "    <tr>\n",
       "      <th>25</th>\n",
       "      <td>normal.</td>\n",
       "      <td>Normal</td>\n",
       "    </tr>\n",
       "    <tr>\n",
       "      <th>26</th>\n",
       "      <td>normal.</td>\n",
       "      <td>Normal</td>\n",
       "    </tr>\n",
       "    <tr>\n",
       "      <th>27</th>\n",
       "      <td>normal.</td>\n",
       "      <td>Normal</td>\n",
       "    </tr>\n",
       "    <tr>\n",
       "      <th>28</th>\n",
       "      <td>normal.</td>\n",
       "      <td>Normal</td>\n",
       "    </tr>\n",
       "    <tr>\n",
       "      <th>29</th>\n",
       "      <td>normal.</td>\n",
       "      <td>Normal</td>\n",
       "    </tr>\n",
       "    <tr>\n",
       "      <th>...</th>\n",
       "      <td>...</td>\n",
       "      <td>...</td>\n",
       "    </tr>\n",
       "    <tr>\n",
       "      <th>493991</th>\n",
       "      <td>normal.</td>\n",
       "      <td>Normal</td>\n",
       "    </tr>\n",
       "    <tr>\n",
       "      <th>493992</th>\n",
       "      <td>normal.</td>\n",
       "      <td>Normal</td>\n",
       "    </tr>\n",
       "    <tr>\n",
       "      <th>493993</th>\n",
       "      <td>normal.</td>\n",
       "      <td>Normal</td>\n",
       "    </tr>\n",
       "    <tr>\n",
       "      <th>493994</th>\n",
       "      <td>normal.</td>\n",
       "      <td>Normal</td>\n",
       "    </tr>\n",
       "    <tr>\n",
       "      <th>493995</th>\n",
       "      <td>normal.</td>\n",
       "      <td>Normal</td>\n",
       "    </tr>\n",
       "    <tr>\n",
       "      <th>493996</th>\n",
       "      <td>normal.</td>\n",
       "      <td>Normal</td>\n",
       "    </tr>\n",
       "    <tr>\n",
       "      <th>493997</th>\n",
       "      <td>normal.</td>\n",
       "      <td>Normal</td>\n",
       "    </tr>\n",
       "    <tr>\n",
       "      <th>493998</th>\n",
       "      <td>normal.</td>\n",
       "      <td>Normal</td>\n",
       "    </tr>\n",
       "    <tr>\n",
       "      <th>493999</th>\n",
       "      <td>normal.</td>\n",
       "      <td>Normal</td>\n",
       "    </tr>\n",
       "    <tr>\n",
       "      <th>494000</th>\n",
       "      <td>normal.</td>\n",
       "      <td>Normal</td>\n",
       "    </tr>\n",
       "    <tr>\n",
       "      <th>494001</th>\n",
       "      <td>normal.</td>\n",
       "      <td>Normal</td>\n",
       "    </tr>\n",
       "    <tr>\n",
       "      <th>494002</th>\n",
       "      <td>normal.</td>\n",
       "      <td>Normal</td>\n",
       "    </tr>\n",
       "    <tr>\n",
       "      <th>494003</th>\n",
       "      <td>normal.</td>\n",
       "      <td>Normal</td>\n",
       "    </tr>\n",
       "    <tr>\n",
       "      <th>494004</th>\n",
       "      <td>normal.</td>\n",
       "      <td>Normal</td>\n",
       "    </tr>\n",
       "    <tr>\n",
       "      <th>494005</th>\n",
       "      <td>normal.</td>\n",
       "      <td>Normal</td>\n",
       "    </tr>\n",
       "    <tr>\n",
       "      <th>494006</th>\n",
       "      <td>normal.</td>\n",
       "      <td>Normal</td>\n",
       "    </tr>\n",
       "    <tr>\n",
       "      <th>494007</th>\n",
       "      <td>normal.</td>\n",
       "      <td>Normal</td>\n",
       "    </tr>\n",
       "    <tr>\n",
       "      <th>494008</th>\n",
       "      <td>normal.</td>\n",
       "      <td>Normal</td>\n",
       "    </tr>\n",
       "    <tr>\n",
       "      <th>494009</th>\n",
       "      <td>normal.</td>\n",
       "      <td>Normal</td>\n",
       "    </tr>\n",
       "    <tr>\n",
       "      <th>494010</th>\n",
       "      <td>normal.</td>\n",
       "      <td>Normal</td>\n",
       "    </tr>\n",
       "    <tr>\n",
       "      <th>494011</th>\n",
       "      <td>normal.</td>\n",
       "      <td>Normal</td>\n",
       "    </tr>\n",
       "    <tr>\n",
       "      <th>494012</th>\n",
       "      <td>normal.</td>\n",
       "      <td>Normal</td>\n",
       "    </tr>\n",
       "    <tr>\n",
       "      <th>494013</th>\n",
       "      <td>normal.</td>\n",
       "      <td>Normal</td>\n",
       "    </tr>\n",
       "    <tr>\n",
       "      <th>494014</th>\n",
       "      <td>normal.</td>\n",
       "      <td>Normal</td>\n",
       "    </tr>\n",
       "    <tr>\n",
       "      <th>494015</th>\n",
       "      <td>normal.</td>\n",
       "      <td>Normal</td>\n",
       "    </tr>\n",
       "    <tr>\n",
       "      <th>494016</th>\n",
       "      <td>normal.</td>\n",
       "      <td>Normal</td>\n",
       "    </tr>\n",
       "    <tr>\n",
       "      <th>494017</th>\n",
       "      <td>normal.</td>\n",
       "      <td>Normal</td>\n",
       "    </tr>\n",
       "    <tr>\n",
       "      <th>494018</th>\n",
       "      <td>normal.</td>\n",
       "      <td>Normal</td>\n",
       "    </tr>\n",
       "    <tr>\n",
       "      <th>494019</th>\n",
       "      <td>normal.</td>\n",
       "      <td>Normal</td>\n",
       "    </tr>\n",
       "    <tr>\n",
       "      <th>494020</th>\n",
       "      <td>normal.</td>\n",
       "      <td>Normal</td>\n",
       "    </tr>\n",
       "  </tbody>\n",
       "</table>\n",
       "<p>494021 rows × 2 columns</p>\n",
       "</div>"
      ],
      "text/plain": [
       "          class bin_class\n",
       "0       normal.    Normal\n",
       "1       normal.    Normal\n",
       "2       normal.    Normal\n",
       "3       normal.    Normal\n",
       "4       normal.    Normal\n",
       "5       normal.    Normal\n",
       "6       normal.    Normal\n",
       "7       normal.    Normal\n",
       "8       normal.    Normal\n",
       "9       normal.    Normal\n",
       "10      normal.    Normal\n",
       "11      normal.    Normal\n",
       "12      normal.    Normal\n",
       "13      normal.    Normal\n",
       "14      normal.    Normal\n",
       "15      normal.    Normal\n",
       "16      normal.    Normal\n",
       "17      normal.    Normal\n",
       "18      normal.    Normal\n",
       "19      normal.    Normal\n",
       "20      normal.    Normal\n",
       "21      normal.    Normal\n",
       "22      normal.    Normal\n",
       "23      normal.    Normal\n",
       "24      normal.    Normal\n",
       "25      normal.    Normal\n",
       "26      normal.    Normal\n",
       "27      normal.    Normal\n",
       "28      normal.    Normal\n",
       "29      normal.    Normal\n",
       "...         ...       ...\n",
       "493991  normal.    Normal\n",
       "493992  normal.    Normal\n",
       "493993  normal.    Normal\n",
       "493994  normal.    Normal\n",
       "493995  normal.    Normal\n",
       "493996  normal.    Normal\n",
       "493997  normal.    Normal\n",
       "493998  normal.    Normal\n",
       "493999  normal.    Normal\n",
       "494000  normal.    Normal\n",
       "494001  normal.    Normal\n",
       "494002  normal.    Normal\n",
       "494003  normal.    Normal\n",
       "494004  normal.    Normal\n",
       "494005  normal.    Normal\n",
       "494006  normal.    Normal\n",
       "494007  normal.    Normal\n",
       "494008  normal.    Normal\n",
       "494009  normal.    Normal\n",
       "494010  normal.    Normal\n",
       "494011  normal.    Normal\n",
       "494012  normal.    Normal\n",
       "494013  normal.    Normal\n",
       "494014  normal.    Normal\n",
       "494015  normal.    Normal\n",
       "494016  normal.    Normal\n",
       "494017  normal.    Normal\n",
       "494018  normal.    Normal\n",
       "494019  normal.    Normal\n",
       "494020  normal.    Normal\n",
       "\n",
       "[494021 rows x 2 columns]"
      ]
     },
     "execution_count": 77,
     "metadata": {},
     "output_type": "execute_result"
    }
   ],
   "source": [
    "# insert your code here\n",
    "dataset2[['class', 'bin_class']]"
   ]
  },
  {
   "cell_type": "markdown",
   "metadata": {},
   "source": [
    "**5- ** Save the generated dataframe to kdd_v2.csv: "
   ]
  },
  {
   "cell_type": "code",
   "execution_count": 78,
   "metadata": {},
   "outputs": [],
   "source": [
    "# insert your code here\n",
    "dataset2.to_csv('kdd_v2.csv')"
   ]
  },
  {
   "cell_type": "code",
   "execution_count": null,
   "metadata": {},
   "outputs": [],
   "source": []
  }
 ],
 "metadata": {
  "kernelspec": {
   "display_name": "Python 3",
   "language": "python",
   "name": "python3"
  },
  "language_info": {
   "codemirror_mode": {
    "name": "ipython",
    "version": 3
   },
   "file_extension": ".py",
   "mimetype": "text/x-python",
   "name": "python",
   "nbconvert_exporter": "python",
   "pygments_lexer": "ipython3",
   "version": "3.7.1"
  }
 },
 "nbformat": 4,
 "nbformat_minor": 2
}
