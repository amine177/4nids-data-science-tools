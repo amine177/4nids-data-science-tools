{
 "cells": [
  {
   "cell_type": "markdown",
   "metadata": {},
   "source": [
    "<a href=\"http://esprit.tn\"><img src = \"https://upload.wikimedia.org/wikipedia/commons/f/ff/Logo_ESPRIT_Ariana.jpg\" width = 300, align = \"center\"></a>\n",
    "\n",
    "\n",
    "\n",
    "<h1 align=center><font size = 5>Lab 9: Supervised learning -  Artificial Neural Networks (ANN) </font></h1>\n",
    "\n",
    "Estimated duration: 50 min"
   ]
  },
  {
   "cell_type": "markdown",
   "metadata": {},
   "source": [
    "## Goal"
   ]
  },
  {
   "cell_type": "markdown",
   "metadata": {},
   "source": [
    "We aim through this lab to build a robust intrusion detection system (IDS) based on Artificial Neural Networks "
   ]
  },
  {
   "cell_type": "markdown",
   "metadata": {},
   "source": [
    "## Part I: Data loading and preparation "
   ]
  },
  {
   "cell_type": "code",
   "execution_count": 1,
   "metadata": {},
   "outputs": [],
   "source": [
    "import numpy as np\n",
    "import pandas as pnd\n",
    "import sklearn as sk\n",
    "from sklearn.model_selection import train_test_split\n",
    "from sklearn import svm\n",
    "from sklearn.metrics import classification_report\n",
    "from sklearn import metrics\n",
    "from sklearn.tree import DecisionTreeClassifier\n",
    "from sklearn.metrics import (precision_score, recall_score,f1_score, accuracy_score,mean_squared_error,mean_absolute_error)\n",
    "from sklearn.ensemble import RandomForestClassifier\n",
    "from sklearn.preprocessing import Normalizer\n",
    "\n",
    "from sklearn.svm import SVC\n",
    "from sklearn.metrics import confusion_matrix\n",
    "from sklearn.metrics import (precision_score, recall_score,f1_score, accuracy_score,mean_squared_error,mean_absolute_error, roc_curve, classification_report,auc)\n"
   ]
  },
  {
   "cell_type": "code",
   "execution_count": 2,
   "metadata": {},
   "outputs": [
    {
     "name": "stdout",
     "output_type": "stream",
     "text": [
      "0:00:00.000041\n",
      "Elapsed time 0:00:00.000028\n"
     ]
    },
    {
     "data": {
      "text/plain": [
       "datetime.timedelta(microseconds=28)"
      ]
     },
     "execution_count": 2,
     "metadata": {},
     "output_type": "execute_result"
    }
   ],
   "source": [
    "import datetime\n",
    "t=datetime.datetime.now()\n",
    "print(datetime.datetime.now()- t)\n",
    "\n",
    "def init_chrono():\n",
    "    return datetime.datetime.now()\n",
    "\n",
    "def elapsed_time(t):\n",
    "    if t:\n",
    "        delta = init_chrono() - t\n",
    "        print ('Elapsed time', delta)\n",
    "        return delta \n",
    "    \n",
    "# test\n",
    "t = init_chrono()\n",
    "elapsed_time(t)"
   ]
  },
  {
   "cell_type": "code",
   "execution_count": 3,
   "metadata": {},
   "outputs": [
    {
     "name": "stdout",
     "output_type": "stream",
     "text": [
      "0.20.1\n"
     ]
    }
   ],
   "source": [
    "print(sk.__version__)"
   ]
  },
  {
   "cell_type": "code",
   "execution_count": 4,
   "metadata": {},
   "outputs": [
    {
     "name": "stdout",
     "output_type": "stream",
     "text": [
      "train_data (494021, 42) \n",
      " test_data: (311029, 42)\n"
     ]
    }
   ],
   "source": [
    "data_path = './'\n",
    "traindata = pnd.read_csv(data_path+'train.csv', header=None)\n",
    "testdata = pnd.read_csv(data_path+'test.csv', header=None)\n",
    "\n",
    "print('train_data', traindata.shape, '\\n', 'test_data:', testdata.shape)"
   ]
  },
  {
   "cell_type": "code",
   "execution_count": 5,
   "metadata": {},
   "outputs": [
    {
     "data": {
      "text/html": [
       "<div>\n",
       "<style scoped>\n",
       "    .dataframe tbody tr th:only-of-type {\n",
       "        vertical-align: middle;\n",
       "    }\n",
       "\n",
       "    .dataframe tbody tr th {\n",
       "        vertical-align: top;\n",
       "    }\n",
       "\n",
       "    .dataframe thead th {\n",
       "        text-align: right;\n",
       "    }\n",
       "</style>\n",
       "<table border=\"1\" class=\"dataframe\">\n",
       "  <thead>\n",
       "    <tr style=\"text-align: right;\">\n",
       "      <th></th>\n",
       "      <th>0</th>\n",
       "      <th>1</th>\n",
       "      <th>2</th>\n",
       "      <th>3</th>\n",
       "      <th>4</th>\n",
       "      <th>5</th>\n",
       "      <th>6</th>\n",
       "      <th>7</th>\n",
       "      <th>8</th>\n",
       "      <th>9</th>\n",
       "      <th>...</th>\n",
       "      <th>32</th>\n",
       "      <th>33</th>\n",
       "      <th>34</th>\n",
       "      <th>35</th>\n",
       "      <th>36</th>\n",
       "      <th>37</th>\n",
       "      <th>38</th>\n",
       "      <th>39</th>\n",
       "      <th>40</th>\n",
       "      <th>41</th>\n",
       "    </tr>\n",
       "  </thead>\n",
       "  <tbody>\n",
       "    <tr>\n",
       "      <th>0</th>\n",
       "      <td>0</td>\n",
       "      <td>udp</td>\n",
       "      <td>private</td>\n",
       "      <td>SF</td>\n",
       "      <td>105</td>\n",
       "      <td>146</td>\n",
       "      <td>0</td>\n",
       "      <td>0</td>\n",
       "      <td>0</td>\n",
       "      <td>0</td>\n",
       "      <td>...</td>\n",
       "      <td>254</td>\n",
       "      <td>1.0</td>\n",
       "      <td>0.01</td>\n",
       "      <td>0.00</td>\n",
       "      <td>0.0</td>\n",
       "      <td>0.0</td>\n",
       "      <td>0.0</td>\n",
       "      <td>0.0</td>\n",
       "      <td>0.0</td>\n",
       "      <td>normal.</td>\n",
       "    </tr>\n",
       "    <tr>\n",
       "      <th>1</th>\n",
       "      <td>0</td>\n",
       "      <td>udp</td>\n",
       "      <td>private</td>\n",
       "      <td>SF</td>\n",
       "      <td>105</td>\n",
       "      <td>146</td>\n",
       "      <td>0</td>\n",
       "      <td>0</td>\n",
       "      <td>0</td>\n",
       "      <td>0</td>\n",
       "      <td>...</td>\n",
       "      <td>254</td>\n",
       "      <td>1.0</td>\n",
       "      <td>0.01</td>\n",
       "      <td>0.00</td>\n",
       "      <td>0.0</td>\n",
       "      <td>0.0</td>\n",
       "      <td>0.0</td>\n",
       "      <td>0.0</td>\n",
       "      <td>0.0</td>\n",
       "      <td>normal.</td>\n",
       "    </tr>\n",
       "    <tr>\n",
       "      <th>2</th>\n",
       "      <td>0</td>\n",
       "      <td>udp</td>\n",
       "      <td>private</td>\n",
       "      <td>SF</td>\n",
       "      <td>105</td>\n",
       "      <td>146</td>\n",
       "      <td>0</td>\n",
       "      <td>0</td>\n",
       "      <td>0</td>\n",
       "      <td>0</td>\n",
       "      <td>...</td>\n",
       "      <td>254</td>\n",
       "      <td>1.0</td>\n",
       "      <td>0.01</td>\n",
       "      <td>0.00</td>\n",
       "      <td>0.0</td>\n",
       "      <td>0.0</td>\n",
       "      <td>0.0</td>\n",
       "      <td>0.0</td>\n",
       "      <td>0.0</td>\n",
       "      <td>normal.</td>\n",
       "    </tr>\n",
       "    <tr>\n",
       "      <th>3</th>\n",
       "      <td>0</td>\n",
       "      <td>udp</td>\n",
       "      <td>private</td>\n",
       "      <td>SF</td>\n",
       "      <td>105</td>\n",
       "      <td>146</td>\n",
       "      <td>0</td>\n",
       "      <td>0</td>\n",
       "      <td>0</td>\n",
       "      <td>0</td>\n",
       "      <td>...</td>\n",
       "      <td>254</td>\n",
       "      <td>1.0</td>\n",
       "      <td>0.01</td>\n",
       "      <td>0.00</td>\n",
       "      <td>0.0</td>\n",
       "      <td>0.0</td>\n",
       "      <td>0.0</td>\n",
       "      <td>0.0</td>\n",
       "      <td>0.0</td>\n",
       "      <td>snmpgetattack.</td>\n",
       "    </tr>\n",
       "    <tr>\n",
       "      <th>4</th>\n",
       "      <td>0</td>\n",
       "      <td>udp</td>\n",
       "      <td>private</td>\n",
       "      <td>SF</td>\n",
       "      <td>105</td>\n",
       "      <td>146</td>\n",
       "      <td>0</td>\n",
       "      <td>0</td>\n",
       "      <td>0</td>\n",
       "      <td>0</td>\n",
       "      <td>...</td>\n",
       "      <td>254</td>\n",
       "      <td>1.0</td>\n",
       "      <td>0.01</td>\n",
       "      <td>0.01</td>\n",
       "      <td>0.0</td>\n",
       "      <td>0.0</td>\n",
       "      <td>0.0</td>\n",
       "      <td>0.0</td>\n",
       "      <td>0.0</td>\n",
       "      <td>snmpgetattack.</td>\n",
       "    </tr>\n",
       "  </tbody>\n",
       "</table>\n",
       "<p>5 rows × 42 columns</p>\n",
       "</div>"
      ],
      "text/plain": [
       "   0    1        2   3    4    5   6   7   8   9        ...         32   33  \\\n",
       "0   0  udp  private  SF  105  146   0   0   0   0       ...        254  1.0   \n",
       "1   0  udp  private  SF  105  146   0   0   0   0       ...        254  1.0   \n",
       "2   0  udp  private  SF  105  146   0   0   0   0       ...        254  1.0   \n",
       "3   0  udp  private  SF  105  146   0   0   0   0       ...        254  1.0   \n",
       "4   0  udp  private  SF  105  146   0   0   0   0       ...        254  1.0   \n",
       "\n",
       "     34    35   36   37   38   39   40              41  \n",
       "0  0.01  0.00  0.0  0.0  0.0  0.0  0.0         normal.  \n",
       "1  0.01  0.00  0.0  0.0  0.0  0.0  0.0         normal.  \n",
       "2  0.01  0.00  0.0  0.0  0.0  0.0  0.0         normal.  \n",
       "3  0.01  0.00  0.0  0.0  0.0  0.0  0.0  snmpgetattack.  \n",
       "4  0.01  0.01  0.0  0.0  0.0  0.0  0.0  snmpgetattack.  \n",
       "\n",
       "[5 rows x 42 columns]"
      ]
     },
     "execution_count": 5,
     "metadata": {},
     "output_type": "execute_result"
    }
   ],
   "source": [
    "testdata.head()"
   ]
  },
  {
   "cell_type": "markdown",
   "metadata": {},
   "source": [
    "#### Transforming categorical variables "
   ]
  },
  {
   "cell_type": "markdown",
   "metadata": {},
   "source": [
    "Class column transformation to binary"
   ]
  },
  {
   "cell_type": "code",
   "execution_count": 6,
   "metadata": {},
   "outputs": [],
   "source": [
    "bin_func= lambda x : 1 if x!='normal.' else 0\n",
    "bin_class= lambda x: 'normal' if x=='normal.' else 'attack' "
   ]
  },
  {
   "cell_type": "code",
   "execution_count": 7,
   "metadata": {},
   "outputs": [],
   "source": [
    "traindata[41]=traindata[41].map(bin_func)\n",
    "testdata[41]=testdata[41].map(bin_func)"
   ]
  },
  {
   "cell_type": "markdown",
   "metadata": {},
   "source": [
    "Showing the distribution of a given column"
   ]
  },
  {
   "cell_type": "code",
   "execution_count": 8,
   "metadata": {},
   "outputs": [
    {
     "name": "stdout",
     "output_type": "stream",
     "text": [
      "train dataset before  distribution:\n",
      " 1    396743\n",
      "0     97278\n",
      "Name: 41, dtype: int64\n"
     ]
    }
   ],
   "source": [
    "def show_dist(df_column, tag = 'Column'):\n",
    "    if not df_column.empty: \n",
    "        dist = df_column.value_counts()\n",
    "        print(\"%s distribution:\\n\" %tag, dist)\n",
    "\n",
    "#Test\n",
    "show_dist(traindata[41], tag=\"train dataset before \")  "
   ]
  },
  {
   "cell_type": "code",
   "execution_count": 9,
   "metadata": {},
   "outputs": [
    {
     "name": "stdout",
     "output_type": "stream",
     "text": [
      "Train_dataset: distribution:\n",
      " 1    396743\n",
      "0     97278\n",
      "Name: 41, dtype: int64\n",
      "Test_dataset: distribution:\n",
      " 1    250436\n",
      "0     60593\n",
      "Name: 41, dtype: int64\n"
     ]
    }
   ],
   "source": [
    "show_dist(traindata[41], 'Train_dataset:')\n",
    "show_dist(testdata[41], 'Test_dataset:')"
   ]
  },
  {
   "cell_type": "markdown",
   "metadata": {},
   "source": [
    "Retrieving categorical data  and transforming them to numerical representation."
   ]
  },
  {
   "cell_type": "code",
   "execution_count": 10,
   "metadata": {},
   "outputs": [],
   "source": [
    "def get_categorical(dataframe):\n",
    "    types = dataframe.dtypes\n",
    "    i = 0\n",
    "    lst_cat=[]\n",
    "    for var in types:\n",
    "        if var == 'object':\n",
    "            print(i)\n",
    "            lst_cat.append(i)\n",
    "        i=i+1\n",
    "    return lst_cat\n",
    "\n",
    "def handle_categorical(dataframe):\n",
    "    if type(dataframe) != pnd.DataFrame:\n",
    "        return None \n",
    "\n",
    "    lst= get_categorical(dataframe)\n",
    "    \n",
    "    print('%d variables are categorical %s ' %(len(lst), lst))\n",
    "    for var_cat in lst:\n",
    "        try:\n",
    "            enc = sk.preprocessing.label.LabelEncoder()\n",
    "            show_dist(dataframe[var_cat], 'Var[' + str(var_cat) + '] (before)')\n",
    "            dataframe[var_cat] = enc.fit_transform(dataframe[var_cat])\n",
    "            show_dist(dataframe[var_cat], 'Var[' + str(var_cat) + '] (after)')\n",
    "        except Exception as e:\n",
    "            print('Exception: Unable to convert categorical variable ', var_cat, e)\n",
    "            \n",
    "    #return dataframe\n",
    "#handle_categorical(T)"
   ]
  },
  {
   "cell_type": "code",
   "execution_count": null,
   "metadata": {},
   "outputs": [],
   "source": []
  },
  {
   "cell_type": "code",
   "execution_count": 11,
   "metadata": {},
   "outputs": [
    {
     "name": "stdout",
     "output_type": "stream",
     "text": [
      "1\n",
      "2\n",
      "3\n",
      "3 variables are categorical [1, 2, 3] \n",
      "Var[1] (before) distribution:\n",
      " icmp    164969\n",
      "tcp     119357\n",
      "udp      26703\n",
      "Name: 1, dtype: int64\n",
      "Var[1] (after) distribution:\n",
      " 0    164969\n",
      "1    119357\n",
      "2     26703\n",
      "Name: 1, dtype: int64\n",
      "Var[2] (before) distribution:\n",
      " ecr_i          164352\n",
      "private         78510\n",
      "http            41237\n",
      "smtp             8268\n",
      "pop_3            3972\n",
      "domain_u         3160\n",
      "ftp_data         2223\n",
      "other            2185\n",
      "telnet           2077\n",
      "ftp               837\n",
      "eco_i             547\n",
      "imap4             333\n",
      "finger            291\n",
      "sunrpc            195\n",
      "auth              150\n",
      "time               82\n",
      "ntp_u              80\n",
      "echo               69\n",
      "domain             68\n",
      "bgp                66\n",
      "link               66\n",
      "remote_job         65\n",
      "gopher             65\n",
      "netstat            65\n",
      "netbios_ns         64\n",
      "ctf                63\n",
      "urp_i              63\n",
      "uucp               62\n",
      "iso_tsap           62\n",
      "nntp               62\n",
      "                ...  \n",
      "name               60\n",
      "http_443           60\n",
      "ldap               59\n",
      "netbios_dgm        59\n",
      "nnsp               59\n",
      "printer            58\n",
      "courier            58\n",
      "rje                58\n",
      "systat             57\n",
      "mtp                56\n",
      "uucp_path          56\n",
      "ssh                56\n",
      "efs                55\n",
      "Z39_50             55\n",
      "sql_net            54\n",
      "netbios_ssn        53\n",
      "daytime            53\n",
      "shell              53\n",
      "vmnet              53\n",
      "whois              52\n",
      "csnet_ns           50\n",
      "klogin             50\n",
      "supdup             50\n",
      "hostnames          48\n",
      "IRC                24\n",
      "pm_dump            16\n",
      "X11                15\n",
      "tim_i               7\n",
      "icmp                2\n",
      "tftp_u              1\n",
      "Name: 2, Length: 65, dtype: int64\n",
      "Var[2] (after) distribution:\n",
      " 14    164352\n",
      "46     78510\n",
      "22     41237\n",
      "50      8268\n",
      "44      3972\n",
      "11      3160\n",
      "19      2223\n",
      "41      2185\n",
      "56      2077\n",
      "18       837\n",
      "13       547\n",
      "25       333\n",
      "17       291\n",
      "53       195\n",
      "3        150\n",
      "59        82\n",
      "40        80\n",
      "12        69\n",
      "10        68\n",
      "4         66\n",
      "30        66\n",
      "20        65\n",
      "37        65\n",
      "47        65\n",
      "35        64\n",
      "60        63\n",
      "7         63\n",
      "26        62\n",
      "39        62\n",
      "61        62\n",
      "       ...  \n",
      "23        60\n",
      "9         60\n",
      "29        59\n",
      "34        59\n",
      "38        59\n",
      "5         58\n",
      "48        58\n",
      "45        58\n",
      "55        57\n",
      "52        56\n",
      "62        56\n",
      "32        56\n",
      "2         55\n",
      "15        55\n",
      "51        54\n",
      "8         53\n",
      "49        53\n",
      "63        53\n",
      "36        53\n",
      "64        52\n",
      "27        50\n",
      "6         50\n",
      "54        50\n",
      "21        48\n",
      "0         24\n",
      "42        16\n",
      "1         15\n",
      "58         7\n",
      "24         2\n",
      "57         1\n",
      "Name: 2, Length: 65, dtype: int64\n",
      "Var[3] (before) distribution:\n",
      " SF        248379\n",
      "REJ        41945\n",
      "S0         18012\n",
      "RSTO        1393\n",
      "RSTR         872\n",
      "S3           289\n",
      "SH            84\n",
      "S1            27\n",
      "S2            22\n",
      "OTH            4\n",
      "RSTOS0         2\n",
      "Name: 3, dtype: int64\n",
      "Var[3] (after) distribution:\n",
      " 9     248379\n",
      "1      41945\n",
      "5      18012\n",
      "2       1393\n",
      "4        872\n",
      "8        289\n",
      "10        84\n",
      "6         27\n",
      "7         22\n",
      "0          4\n",
      "3          2\n",
      "Name: 3, dtype: int64\n",
      "1\n",
      "2\n",
      "3\n",
      "3 variables are categorical [1, 2, 3] \n",
      "Var[1] (before) distribution:\n",
      " icmp    283602\n",
      "tcp     190065\n",
      "udp      20354\n",
      "Name: 1, dtype: int64\n",
      "Var[1] (after) distribution:\n",
      " 0    283602\n",
      "1    190065\n",
      "2     20354\n",
      "Name: 1, dtype: int64\n",
      "Var[2] (before) distribution:\n",
      " ecr_i          281400\n",
      "private        110893\n",
      "http            64293\n",
      "smtp             9723\n",
      "other            7237\n",
      "domain_u         5863\n",
      "ftp_data         4721\n",
      "eco_i            1642\n",
      "ftp               798\n",
      "finger            670\n",
      "urp_i             538\n",
      "telnet            513\n",
      "ntp_u             380\n",
      "auth              328\n",
      "pop_3             202\n",
      "time              157\n",
      "csnet_ns          126\n",
      "remote_job        120\n",
      "gopher            117\n",
      "imap4             117\n",
      "discard           116\n",
      "domain            116\n",
      "systat            115\n",
      "iso_tsap          115\n",
      "shell             112\n",
      "echo              112\n",
      "rje               111\n",
      "sql_net           110\n",
      "whois             110\n",
      "printer           109\n",
      "                ...  \n",
      "bgp               106\n",
      "uucp              106\n",
      "uucp_path         106\n",
      "klogin            106\n",
      "supdup            105\n",
      "nnsp              105\n",
      "ssh               105\n",
      "login             104\n",
      "hostnames         104\n",
      "efs               103\n",
      "daytime           103\n",
      "netbios_ns        102\n",
      "link              102\n",
      "pop_2             101\n",
      "ldap              101\n",
      "netbios_dgm        99\n",
      "http_443           99\n",
      "exec               99\n",
      "kshell             98\n",
      "name               98\n",
      "ctf                97\n",
      "netstat            95\n",
      "Z39_50             92\n",
      "IRC                43\n",
      "urh_i              14\n",
      "X11                11\n",
      "tim_i               7\n",
      "pm_dump             1\n",
      "red_i               1\n",
      "tftp_u              1\n",
      "Name: 2, Length: 66, dtype: int64\n",
      "Var[2] (after) distribution:\n",
      " 14    281400\n",
      "45    110893\n",
      "22     64293\n",
      "50      9723\n",
      "40      7237\n",
      "11      5863\n",
      "19      4721\n",
      "13      1642\n",
      "18       798\n",
      "17       670\n",
      "61       538\n",
      "56       513\n",
      "39       380\n",
      "3        328\n",
      "43       202\n",
      "59       157\n",
      "6        126\n",
      "47       120\n",
      "20       117\n",
      "24       117\n",
      "10       116\n",
      "9        116\n",
      "55       115\n",
      "25       115\n",
      "49       112\n",
      "12       112\n",
      "48       111\n",
      "65       110\n",
      "51       110\n",
      "44       109\n",
      "       ...  \n",
      "63       106\n",
      "62       106\n",
      "4        106\n",
      "26       106\n",
      "52       105\n",
      "54       105\n",
      "37       105\n",
      "21       104\n",
      "30       104\n",
      "8        103\n",
      "15       103\n",
      "34       102\n",
      "29       102\n",
      "42       101\n",
      "28       101\n",
      "23        99\n",
      "16        99\n",
      "33        99\n",
      "32        98\n",
      "27        98\n",
      "7         97\n",
      "36        95\n",
      "2         92\n",
      "0         43\n",
      "60        14\n",
      "1         11\n",
      "58         7\n",
      "41         1\n",
      "46         1\n",
      "57         1\n",
      "Name: 2, Length: 66, dtype: int64\n",
      "Var[3] (before) distribution:\n",
      " SF        378440\n",
      "S0         87007\n",
      "REJ        26875\n",
      "RSTR         903\n",
      "RSTO         579\n",
      "SH           107\n",
      "S1            57\n",
      "S2            24\n",
      "RSTOS0        11\n",
      "S3            10\n",
      "OTH            8\n",
      "Name: 3, dtype: int64\n",
      "Var[3] (after) distribution:\n",
      " 9     378440\n",
      "5      87007\n",
      "1      26875\n",
      "4        903\n",
      "2        579\n",
      "10       107\n",
      "6         57\n",
      "7         24\n",
      "3         11\n",
      "8         10\n",
      "0          8\n",
      "Name: 3, dtype: int64\n"
     ]
    }
   ],
   "source": [
    "handle_categorical(testdata)\n",
    "handle_categorical(traindata)"
   ]
  },
  {
   "cell_type": "code",
   "execution_count": 12,
   "metadata": {},
   "outputs": [
    {
     "name": "stdout",
     "output_type": "stream",
     "text": [
      "1    396743\n",
      "0     97278\n",
      "Name: 41, dtype: int64\n",
      "1    250436\n",
      "0     60593\n",
      "Name: 41, dtype: int64\n"
     ]
    }
   ],
   "source": [
    "print(traindata[41].value_counts())\n",
    "print(testdata[41].value_counts())"
   ]
  },
  {
   "cell_type": "markdown",
   "metadata": {},
   "source": [
    "#### Data extraction"
   ]
  },
  {
   "cell_type": "code",
   "execution_count": 13,
   "metadata": {},
   "outputs": [],
   "source": [
    "## test \n",
    "X = traindata.iloc[:,0:41]\n",
    "Y = traindata.iloc[:,41]\n",
    "C = testdata.iloc[:,41]\n",
    "T = testdata.iloc[:,0:41]"
   ]
  },
  {
   "cell_type": "code",
   "execution_count": 14,
   "metadata": {},
   "outputs": [
    {
     "name": "stdout",
     "output_type": "stream",
     "text": [
      "(311029,)\n"
     ]
    }
   ],
   "source": [
    "\n",
    "print(C.shape)"
   ]
  },
  {
   "cell_type": "markdown",
   "metadata": {},
   "source": [
    "#### ETL: Data normalization"
   ]
  },
  {
   "cell_type": "code",
   "execution_count": 15,
   "metadata": {},
   "outputs": [],
   "source": [
    "scaler = Normalizer().fit(X)\n",
    "trainX = scaler.transform(X)\n",
    "\n",
    "scaler = Normalizer().fit(T)\n",
    "testT = scaler.transform(T)\n",
    "\n",
    "\n",
    "traindata = np.array(trainX)\n",
    "trainlabel = np.array(Y)\n",
    "\n",
    "testdata = np.array(testT)\n",
    "testlabel = np.array(C)\n"
   ]
  },
  {
   "cell_type": "code",
   "execution_count": 16,
   "metadata": {},
   "outputs": [
    {
     "name": "stdout",
     "output_type": "stream",
     "text": [
      "[0 0 0 0 0 0 0 0 0 0 0 0 0 0 0]\n",
      "[0 1]\n"
     ]
    }
   ],
   "source": [
    "print(trainlabel[:15])\n",
    "print (C.unique())"
   ]
  },
  {
   "cell_type": "markdown",
   "metadata": {},
   "source": [
    "## Part II: Desining the Neural network classification model "
   ]
  },
  {
   "cell_type": "code",
   "execution_count": 17,
   "metadata": {},
   "outputs": [],
   "source": [
    "import sklearn.neural_network as nn"
   ]
  },
  {
   "cell_type": "code",
   "execution_count": 18,
   "metadata": {},
   "outputs": [],
   "source": [
    "t=init_chrono()\n",
    "model = nn.MLPClassifier(activation='logistic' ,hidden_layer_sizes=(2,), max_iter=10,solver='sgd', verbose=True)"
   ]
  },
  {
   "cell_type": "markdown",
   "metadata": {},
   "source": [
    "### Training the Neural network "
   ]
  },
  {
   "cell_type": "code",
   "execution_count": 19,
   "metadata": {},
   "outputs": [
    {
     "name": "stdout",
     "output_type": "stream",
     "text": [
      "Iteration 1, loss = 0.48332956\n",
      "Iteration 2, loss = 0.41307374\n",
      "Iteration 3, loss = 0.32299056\n",
      "Iteration 4, loss = 0.23579234\n",
      "Iteration 5, loss = 0.17394126\n",
      "Iteration 6, loss = 0.13444448\n",
      "Iteration 7, loss = 0.10922281\n",
      "Iteration 8, loss = 0.09261270\n",
      "Iteration 9, loss = 0.08127847\n",
      "Iteration 10, loss = 0.07328478\n",
      "MLPClassifier(activation='logistic', alpha=0.0001, batch_size='auto',\n",
      "       beta_1=0.9, beta_2=0.999, early_stopping=False, epsilon=1e-08,\n",
      "       hidden_layer_sizes=(2,), learning_rate='constant',\n",
      "       learning_rate_init=0.001, max_iter=10, momentum=0.9,\n",
      "       n_iter_no_change=10, nesterovs_momentum=True, power_t=0.5,\n",
      "       random_state=None, shuffle=True, solver='sgd', tol=0.0001,\n",
      "       validation_fraction=0.1, verbose=True, warm_start=False)\n",
      "Elapsed time 0:00:08.535900\n"
     ]
    },
    {
     "name": "stderr",
     "output_type": "stream",
     "text": [
      "/home/aminos/esprit/4nids/decision/lib/python3.7/site-packages/sklearn/neural_network/multilayer_perceptron.py:562: ConvergenceWarning: Stochastic Optimizer: Maximum iterations (10) reached and the optimization hasn't converged yet.\n",
      "  % self.max_iter, ConvergenceWarning)\n"
     ]
    },
    {
     "data": {
      "text/plain": [
       "datetime.timedelta(seconds=8, microseconds=535900)"
      ]
     },
     "execution_count": 19,
     "metadata": {},
     "output_type": "execute_result"
    }
   ],
   "source": [
    "t=init_chrono()\n",
    "model.fit(traindata, trainlabel)\n",
    "print(model)\n",
    "elapsed_time(t)"
   ]
  },
  {
   "cell_type": "markdown",
   "metadata": {},
   "source": [
    "### Using the trained model to make prediction "
   ]
  },
  {
   "cell_type": "code",
   "execution_count": 20,
   "metadata": {},
   "outputs": [],
   "source": [
    "# make predictions\n",
    "expected = testlabel\n",
    "predicted = model.predict(testdata)\n",
    "np.savetxt('./predictedDT.txt', predicted, fmt='%01d')"
   ]
  },
  {
   "cell_type": "code",
   "execution_count": 24,
   "metadata": {},
   "outputs": [
    {
     "name": "stdout",
     "output_type": "stream",
     "text": [
      "Compute confusion matrix to evaluate the accuracy of a classification\n",
      "\n",
      "    By definition a confusion matrix :math:`C` is such that :math:`C_{i, j}`\n",
      "    is equal to the number of observations known to be in group :math:`i` but\n",
      "    predicted to be in group :math:`j`.\n",
      "\n",
      "    Thus in binary classification, the count of true negatives is\n",
      "    :math:`C_{0,0}`, false negatives is :math:`C_{1,0}`, true positives is\n",
      "    :math:`C_{1,1}` and false positives is :math:`C_{0,1}`.\n",
      "\n",
      "    Read more in the :ref:`User Guide <confusion_matrix>`.\n",
      "\n",
      "    Parameters\n",
      "    ----------\n",
      "    y_true : array, shape = [n_samples]\n",
      "        Ground truth (correct) target values.\n",
      "\n",
      "    y_pred : array, shape = [n_samples]\n",
      "        Estimated targets as returned by a classifier.\n",
      "\n",
      "    labels : array, shape = [n_classes], optional\n",
      "        List of labels to index the matrix. This may be used to reorder\n",
      "        or select a subset of labels.\n",
      "        If none is given, those that appear at least once\n",
      "        in ``y_true`` or ``y_pred`` are used in sorted order.\n",
      "\n",
      "    sample_weight : array-like of shape = [n_samples], optional\n",
      "        Sample weights.\n",
      "\n",
      "    Returns\n",
      "    -------\n",
      "    C : array, shape = [n_classes, n_classes]\n",
      "        Confusion matrix\n",
      "\n",
      "    References\n",
      "    ----------\n",
      "    .. [1] `Wikipedia entry for the Confusion matrix\n",
      "           <https://en.wikipedia.org/wiki/Confusion_matrix>`_\n",
      "           (Wikipedia and other references may use a different\n",
      "           convention for axes)\n",
      "\n",
      "    Examples\n",
      "    --------\n",
      "    >>> from sklearn.metrics import confusion_matrix\n",
      "    >>> y_true = [2, 0, 2, 2, 0, 1]\n",
      "    >>> y_pred = [0, 0, 2, 2, 0, 2]\n",
      "    >>> confusion_matrix(y_true, y_pred)\n",
      "    array([[2, 0, 0],\n",
      "           [0, 0, 1],\n",
      "           [1, 0, 2]])\n",
      "\n",
      "    >>> y_true = [\"cat\", \"ant\", \"cat\", \"cat\", \"ant\", \"bird\"]\n",
      "    >>> y_pred = [\"ant\", \"ant\", \"cat\", \"cat\", \"ant\", \"cat\"]\n",
      "    >>> confusion_matrix(y_true, y_pred, labels=[\"ant\", \"bird\", \"cat\"])\n",
      "    array([[2, 0, 0],\n",
      "           [0, 0, 1],\n",
      "           [1, 0, 2]])\n",
      "\n",
      "    In the binary case, we can extract true positives, etc as follows:\n",
      "\n",
      "    >>> tn, fp, fn, tp = confusion_matrix([0, 1, 0, 1], [1, 1, 1, 0]).ravel()\n",
      "    >>> (tn, fp, fn, tp)\n",
      "    (0, 2, 1, 1)\n",
      "\n",
      "    \n"
     ]
    }
   ],
   "source": [
    "print(metrics.confusion_matrix.__doc__)"
   ]
  },
  {
   "cell_type": "markdown",
   "metadata": {},
   "source": [
    "### Model evaluation"
   ]
  },
  {
   "cell_type": "code",
   "execution_count": 22,
   "metadata": {},
   "outputs": [
    {
     "name": "stdout",
     "output_type": "stream",
     "text": [
      "[[ 57426   3167]\n",
      " [ 23506 226930]]\n",
      "0.948\n",
      "0.906\n",
      "Accuracy\n",
      "0.914\n",
      "precision\n",
      "0.848\n",
      "recall\n",
      "0.927\n",
      "f-score\n",
      "0.878\n",
      "fpr\n",
      "0.906\n",
      "tpr\n",
      "0.948\n",
      "***************************************************************\n",
      "Elapsed time 0:00:42.051979\n"
     ]
    },
    {
     "data": {
      "text/plain": [
       "datetime.timedelta(seconds=42, microseconds=51979)"
      ]
     },
     "execution_count": 22,
     "metadata": {},
     "output_type": "execute_result"
    }
   ],
   "source": [
    "\n",
    "\n",
    "# summarize the fit of the model\n",
    "avg= 'macro'\n",
    "accuracy = accuracy_score(expected, predicted)\n",
    "recall = recall_score(expected, predicted, average=avg)\n",
    "precision = precision_score(expected, predicted , average=avg)\n",
    "f1 = f1_score(expected, predicted , average=avg)\n",
    "\n",
    "cm = metrics.confusion_matrix(expected, predicted)\n",
    "print(cm)\n",
    "tpr = float(cm[0][0])/np.sum(cm[0])\n",
    "fpr = float(cm[1][1])/np.sum(cm[1])\n",
    "print(\"%.3f\" %tpr)\n",
    "print(\"%.3f\" %fpr)\n",
    "print(\"Accuracy\")\n",
    "print(\"%.3f\" %accuracy)\n",
    "print(\"precision\")\n",
    "print(\"%.3f\" %precision)\n",
    "print(\"recall\")\n",
    "print(\"%.3f\" %recall)\n",
    "print(\"f-score\")\n",
    "print(\"%.3f\" %f1)\n",
    "print(\"fpr\")\n",
    "print(\"%.3f\" %fpr)\n",
    "print(\"tpr\")\n",
    "print(\"%.3f\" %tpr)\n",
    "print(\"***************************************************************\")\n",
    "elapsed_time(t)"
   ]
  },
  {
   "cell_type": "code",
   "execution_count": null,
   "metadata": {},
   "outputs": [],
   "source": []
  },
  {
   "cell_type": "markdown",
   "metadata": {},
   "source": [
    " <hr>\n",
    "Copyright &copy; Nov-2018 Dr.Amir Esseghir"
   ]
  },
  {
   "cell_type": "code",
   "execution_count": null,
   "metadata": {},
   "outputs": [],
   "source": []
  }
 ],
 "metadata": {
  "kernelspec": {
   "display_name": "Python 3",
   "language": "python",
   "name": "python3"
  },
  "language_info": {
   "codemirror_mode": {
    "name": "ipython",
    "version": 3
   },
   "file_extension": ".py",
   "mimetype": "text/x-python",
   "name": "python",
   "nbconvert_exporter": "python",
   "pygments_lexer": "ipython3",
   "version": "3.7.1"
  }
 },
 "nbformat": 4,
 "nbformat_minor": 2
}
